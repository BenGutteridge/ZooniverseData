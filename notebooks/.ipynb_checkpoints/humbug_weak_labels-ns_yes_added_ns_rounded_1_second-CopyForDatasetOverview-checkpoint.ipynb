{
 "cells": [
  {
   "cell_type": "code",
   "execution_count": 1,
   "metadata": {},
   "outputs": [],
   "source": [
    "import pandas as pd\n",
    "import numpy as np\n",
    "import matplotlib.pyplot as plt\n",
    "import matplotlib"
   ]
  },
  {
   "cell_type": "markdown",
   "metadata": {},
   "source": [
    "# Section 0: Functions to create dataset\n",
    "\n"
   ]
  },
  {
   "cell_type": "code",
   "execution_count": 3,
   "metadata": {},
   "outputs": [],
   "source": [
    "df_full = pd.read_csv('../labels/coarse_data_2sec.csv', index_col=0)\n",
    "labeller_ids, labeller_counts = np.unique(df_full['labeller_id'], return_counts=True)"
   ]
  },
  {
   "cell_type": "code",
   "execution_count": 4,
   "metadata": {},
   "outputs": [],
   "source": [
    "audio_ids, count = np.unique(df_full.index, return_counts=True)  # For size of final matrix\n",
    "y = np.zeros((len(audio_ids), 2))"
   ]
  },
  {
   "cell_type": "code",
   "execution_count": 5,
   "metadata": {},
   "outputs": [
    {
     "name": "stderr",
     "output_type": "stream",
     "text": [
      "/home/ikiskin/anaconda3/envs/tensorflow/lib/python3.6/site-packages/matplotlib/font_manager.py:1328: UserWarning: findfont: Font family ['normal'] not found. Falling back to DejaVu Sans\n",
      "  (prop.get_family(), self.defaultFamily[fontext]))\n"
     ]
    },
    {
     "data": {
      "image/png": "[encoded data removed]",
      "text/plain": [
       "<Figure size 432x288 with 1 Axes>"
      ]
     },
     "metadata": {},
     "output_type": "display_data"
    },
    {
     "data": {
      "image/png": "[encoded data removed]",
      "text/plain": [
       "<Figure size 216x252 with 1 Axes>"
      ]
     },
     "metadata": {},
     "output_type": "display_data"
    }
   ],
   "source": [
    "font = {'family' : 'normal',\n",
    "        'weight' : 'normal',\n",
    "        'size'   : 20}\n",
    "\n",
    "matplotlib.rc('font', **font)\n",
    "\n",
    "plt.plot(labeller_counts, '-', alpha=0.5, linewidth=2) ## sort\n",
    "plt.grid(axis='y')\n",
    "plt.ylabel('Number of classifications')\n",
    "plt.xlabel('User number')\n",
    "plt.tight_layout()\n",
    "# # plt.savefig('Figures/n_classifications.pdf')\n",
    "plt.show()\n",
    "\n",
    "\n",
    "### Grouped bar plot:\n",
    "\n",
    "font = {'family' : 'normal',\n",
    "        'weight' : 'normal',\n",
    "        'size'   : 16}\n",
    "matplotlib.rc('font', **font)\n",
    "\n",
    "\n",
    "plt.figure(figsize=(3,3.5))\n",
    "plt.hist(count, log=True, alpha=0.5, rwidth=0.5)\n",
    "plt.grid(axis='y')\n",
    "plt.ylabel('Frequency')\n",
    "plt.xlabel('Labels per audio clip')\n",
    "plt.xlim([0,40])\n",
    "plt.tight_layout()\n",
    "# plt.savefig('label_frequency_hist.pdf')\n",
    "plt.show()\n"
   ]
  },
  {
   "cell_type": "markdown",
   "metadata": {},
   "source": [
    "### Create labels for turning not sure into 0.5 labels, if single not_sure label, decide what to do!!!"
   ]
  },
  {
   "cell_type": "code",
   "execution_count": null,
   "metadata": {},
   "outputs": [
    {
     "name": "stdout",
     "output_type": "stream",
     "text": [
      "Iteration 0\n",
      "Iteration 1000\n",
      "Iteration 2000\n",
      "Iteration 3000\n",
      "Iteration 4000\n",
      "Iteration 5000\n",
      "Iteration 6000\n",
      "Iteration 7000\n",
      "Iteration 8000\n",
      "Iteration 9000\n",
      "Iteration 10000\n",
      "Iteration 11000\n",
      "Iteration 12000\n",
      "Iteration 13000\n",
      "Iteration 14000\n",
      "Iteration 15000\n",
      "Iteration 16000\n",
      "Iteration 17000\n",
      "Iteration 18000\n",
      "Iteration 19000\n",
      "Iteration 20000\n",
      "Iteration 21000\n",
      "Iteration 22000\n",
      "Iteration 23000\n",
      "Iteration 24000\n",
      "Iteration 25000\n",
      "Iteration 26000\n",
      "Iteration 27000\n",
      "Iteration 28000\n",
      "Iteration 29000\n"
     ]
    }
   ],
   "source": [
    "audio_ids, count = np.unique(df_full.index, return_counts=True)  # For size of final matrix\n",
    "\n",
    "x = []\n",
    "disagreement = 0  # variable to count how many disagreements there are\n",
    "n_multiple_labels = 0\n",
    "for i, audio_id in enumerate(audio_ids):\n",
    "    if count[i] == 1:\n",
    "        x.append(df_full['subject_set'].loc[audio_id])  # Append name of subject_set (unique)\n",
    "        # Create y vector\n",
    "        if df_full.loc[audio_id]['sound_type'] == 'mosquito':\n",
    "            y[i,1] = 1\n",
    "        # The lines below were commented out when creating data for the LCBNN\n",
    "        elif df_full.loc[audio_id]['sound_type']  == 'not_sure': \n",
    "            y[i,1] = 1\n",
    "        else:\n",
    "            y[i,0] = 1\n",
    "    else:\n",
    "        n_multiple_labels += 1\n",
    "        x.append(df_full['subject_set'].loc[audio_id].iloc[0])  # Append name of subject_set (first element)\n",
    "                   \n",
    "        # Create y vector, decide on voting scheme, and tie break:\n",
    "        yes_votes = np.array([m == 'mosquito' for m in list(df_full.loc[audio_id][\"sound_type\"])]).astype(np.int)\n",
    "        ns_votes = np.array([m == 'not_sure' for m in list(df_full.loc[audio_id][\"sound_type\"])]).astype(np.int)\n",
    "#         print(yes_votes + ns_votes)\n",
    "        assert (yes_votes + ns_votes).shape == yes_votes.shape\n",
    "\n",
    "        y[i,1] = np.round(np.mean(yes_votes+ns_votes + 1e-10)).astype(np.int)  # added constant to round 0.5 to 1\n",
    "        y[i,0] = 1 - y[i,1]\n",
    "        if len(set(yes_votes)) != 1:\n",
    "            disagreement += 1\n",
    "                    \n",
    "    if i%1000 == 0:\n",
    "        print('Iteration ' + str(i))"
   ]
  },
  {
   "cell_type": "markdown",
   "metadata": {},
   "source": [
    "### Code for creating metadata plots for RAW data with Not sure in each bar group"
   ]
  },
  {
   "cell_type": "code",
   "execution_count": null,
   "metadata": {},
   "outputs": [],
   "source": [
    "font = {'family' : 'normal',\n",
    "        'weight' : 'normal',\n",
    "        'size'   : 12}\n",
    "\n",
    "matplotlib.rc('font', **font)\n",
    "\n",
    "df_Culex = df_full[df_full['subject_set'] == 'Culex Q']\n",
    "df_Kenya = df_full[df_full['subject_set'] == 'Kenya']\n",
    "df_CDC = df_full[df_full['subject_set'] == 'CDC']\n",
    "df_date = df_full[df_full['subject_set'] == '17/11/2017']\n",
    "\n",
    "labels = ['A: Culex', 'B: Kenya', 'C: CDC', 'D: Thailand']\n",
    "\n",
    "\n",
    "x = np.arange(len(labels))  # the label locations\n",
    "width = 0.3  # the width of the bars\n",
    "\n",
    "Not_sure_vector = [len(df_Culex[df_Culex['sound_type'] == 'not_sure']),\n",
    "                   len(df_Kenya[df_Kenya['sound_type'] == 'not_sure']),\n",
    "               len(df_CDC[df_CDC['sound_type'] == 'not_sure']),\n",
    "               len(df_date[df_date['sound_type'] == 'not_sure'])]\n",
    "\n",
    "Noise_vector = [len(df_Culex[df_Culex['sound_type'] == 'background']),\n",
    "               len(df_Kenya[df_Kenya['sound_type'] == 'background']),\n",
    "               len(df_CDC[df_CDC['sound_type'] == 'background']),\n",
    "               len(df_date[df_date['sound_type'] == 'background'])]\n",
    "\n",
    "Mosquito_vector = [len(df_Culex[df_Culex['sound_type'] == 'mosquito']),\n",
    "               len(df_Kenya[df_Kenya['sound_type'] == 'mosquito']),\n",
    "               len(df_CDC[df_CDC['sound_type'] == 'mosquito']),\n",
    "               len(df_date[df_date['sound_type'] == 'mosquito'])]\n",
    "\n",
    "\n",
    "\n",
    "# fig, ax = plt.subplots(1,3, figsize=(10,3), gridspec_kw={'width_ratios': [2, 2, 2]})\n",
    "\n",
    "plt.figure(figsize=(10,3))\n",
    "rects1 = plt.bar(x - width, Mosquito_vector, width, label='Mosquito', alpha=0.5, hatch='/', color='C2')\n",
    "rects2 = plt.bar(x , Not_sure_vector, width, label='Not Sure', alpha=0.5,  color='C1',hatch='|')\n",
    "rects3 = plt.bar(x + width, Noise_vector, width, label='Noise', alpha=0.5, hatch='\\\\', color='C0')\n",
    "\n",
    "\n",
    "\n",
    "\n",
    "# Add some text for labels, title and custom x-axis tick labels, etc.\n",
    "plt.ylabel('Labels per group')\n",
    "# plt.xlabel('(c) Group')\n",
    "plt.xticks(x, labels)\n",
    "plt.legend(loc='upper left')\n",
    "\n",
    "\n",
    "def autolabel(rects):\n",
    "    \"\"\"Attach a text label above each bar in *rects*, displaying its height.\"\"\"\n",
    "    for rect in rects:\n",
    "        height = rect.get_height()\n",
    "        plt.annotate('{:.0f}'.format(height),\n",
    "                    xy=(rect.get_x() + rect.get_width() / 2, height),\n",
    "                    xytext=(0, 3),  # 3 points vertical offset\n",
    "                    textcoords=\"offset points\",\n",
    "                    ha='center', va='bottom', fontsize=10 )\n",
    "\n",
    "\n",
    "\n",
    "autolabel(rects1)\n",
    "autolabel(rects2)\n",
    "autolabel(rects3)\n",
    "\n",
    "plt.grid(axis='y')\n",
    "plt.ylim([0,80000])\n",
    "\n",
    "\n",
    "\n",
    "\n",
    "# ax[0].hist(count, bins=33, log=True, alpha=0.5, rwidth=0.7, align='mid')\n",
    "# plt.grid(axis='y')\n",
    "# ax[0].set_ylabel('Frequency')\n",
    "# ax[0].set_xlabel('(a) Labels per audio clip')\n",
    "# # ax[0].tick_params(axis ='both', which ='both', length = 2) \n",
    "\n",
    "\n",
    "# ax[1].plot(labeller_counts, '-', alpha=0.5, linewidth=2) ## sort\n",
    "# ax[1].set_ylabel('Labels per user')\n",
    "# ax[1].set_xlabel('(b) User ID')\n",
    "\n",
    "\n",
    "# # ax[0].minorticks_on()\n",
    "\n",
    "\n",
    "\n",
    "# ax[0].grid(axis='y')\n",
    "# ax[1].grid(axis='y')\n",
    "# ax[2].grid(axis='y')\n",
    "\n",
    "\n",
    "plt.tight_layout()\n",
    "# plt.savefig('Metadata_raw.pdf')\n",
    "# plt.show()\n"
   ]
  },
  {
   "cell_type": "code",
   "execution_count": 18,
   "metadata": {},
   "outputs": [
    {
     "name": "stdout",
     "output_type": "stream",
     "text": [
      "Iteration 0\n"
     ]
    },
    {
     "ename": "ValueError",
     "evalue": "The truth value of a Series is ambiguous. Use a.empty, a.bool(), a.item(), a.any() or a.all().",
     "output_type": "error",
     "traceback": [
      "\u001b[0;31m---------------------------------------------------------------------------\u001b[0m",
      "\u001b[0;31mValueError\u001b[0m                                Traceback (most recent call last)",
      "\u001b[0;32m<ipython-input-18-7624787b62d2>\u001b[0m in \u001b[0;36m<module>\u001b[0;34m()\u001b[0m\n\u001b[1;32m      8\u001b[0m         \u001b[0mx\u001b[0m\u001b[0;34m.\u001b[0m\u001b[0mappend\u001b[0m\u001b[0;34m(\u001b[0m\u001b[0mdf_full\u001b[0m\u001b[0;34m[\u001b[0m\u001b[0;34m'subject_set'\u001b[0m\u001b[0;34m]\u001b[0m\u001b[0;34m.\u001b[0m\u001b[0mloc\u001b[0m\u001b[0;34m[\u001b[0m\u001b[0mid_\u001b[0m\u001b[0;34m]\u001b[0m\u001b[0;34m)\u001b[0m  \u001b[0;31m# Append name of subject_set (unique)\u001b[0m\u001b[0;34m\u001b[0m\u001b[0m\n\u001b[1;32m      9\u001b[0m         \u001b[0;31m# Create y vector\u001b[0m\u001b[0;34m\u001b[0m\u001b[0;34m\u001b[0m\u001b[0m\n\u001b[0;32m---> 10\u001b[0;31m         \u001b[0;32mif\u001b[0m \u001b[0mdf_full\u001b[0m\u001b[0;34m.\u001b[0m\u001b[0mloc\u001b[0m\u001b[0;34m[\u001b[0m\u001b[0mid_\u001b[0m\u001b[0;34m]\u001b[0m\u001b[0;34m[\u001b[0m\u001b[0;34m'sound_type'\u001b[0m\u001b[0;34m]\u001b[0m \u001b[0;34m==\u001b[0m \u001b[0;34m'mosquito'\u001b[0m\u001b[0;34m:\u001b[0m\u001b[0;34m\u001b[0m\u001b[0m\n\u001b[0m\u001b[1;32m     11\u001b[0m             \u001b[0my\u001b[0m\u001b[0;34m[\u001b[0m\u001b[0mi\u001b[0m\u001b[0;34m,\u001b[0m\u001b[0;36m1\u001b[0m\u001b[0;34m]\u001b[0m \u001b[0;34m=\u001b[0m \u001b[0;36m1\u001b[0m\u001b[0;34m\u001b[0m\u001b[0m\n\u001b[1;32m     12\u001b[0m         \u001b[0;31m# The lines below were commented out when creating data for the LCBNN\u001b[0m\u001b[0;34m\u001b[0m\u001b[0;34m\u001b[0m\u001b[0m\n",
      "\u001b[0;32m~/anaconda3/envs/tensorflow/lib/python3.6/site-packages/pandas/core/generic.py\u001b[0m in \u001b[0;36m__nonzero__\u001b[0;34m(self)\u001b[0m\n\u001b[1;32m   1119\u001b[0m         raise ValueError(\"The truth value of a {0} is ambiguous. \"\n\u001b[1;32m   1120\u001b[0m                          \u001b[0;34m\"Use a.empty, a.bool(), a.item(), a.any() or a.all().\"\u001b[0m\u001b[0;34m\u001b[0m\u001b[0m\n\u001b[0;32m-> 1121\u001b[0;31m                          .format(self.__class__.__name__))\n\u001b[0m\u001b[1;32m   1122\u001b[0m \u001b[0;34m\u001b[0m\u001b[0m\n\u001b[1;32m   1123\u001b[0m     \u001b[0m__bool__\u001b[0m \u001b[0;34m=\u001b[0m \u001b[0m__nonzero__\u001b[0m\u001b[0;34m\u001b[0m\u001b[0m\n",
      "\u001b[0;31mValueError\u001b[0m: The truth value of a Series is ambiguous. Use a.empty, a.bool(), a.item(), a.any() or a.all()."
     ]
    }
   ],
   "source": [
    "y = np.zeros((len(df_full), 2))\n",
    "x = []\n",
    "\n",
    "disagreement = 0  # variable to count how many disagreements there are\n",
    "n_multiple_labels = 0\n",
    "for i, id_ in enumerate(df_full.index):\n",
    "    if count[i] == 1:\n",
    "        x.append(df_full['subject_set'].loc[id_])  # Append name of subject_set (unique)\n",
    "        # Create y vector\n",
    "        if df_full.loc[id_]['sound_type'] == 'mosquito':\n",
    "            y[i,1] = 1\n",
    "        # The lines below were commented out when creating data for the LCBNN\n",
    "        elif df_full.loc[id_]['sound_type']  == 'not_sure': \n",
    "            y[i,1] = 1\n",
    "        else:\n",
    "            y[i,0] = 1\n",
    "    else:\n",
    "        n_multiple_labels += 1\n",
    "        x.append(df_full['subject_set'].loc[id_].iloc[0])  # Append name of subject_set (first element)\n",
    "                   \n",
    "        # Create y vector, decide on voting scheme, and tie break:\n",
    "        yes_votes = np.array([m == 'mosquito' for m in list(df_full.loc[id_][\"sound_type\"])]).astype(np.int)\n",
    "        ns_votes = np.array([m == 'not_sure' for m in list(df_full.loc[id_][\"sound_type\"])]).astype(np.int)\n",
    "#         print(yes_votes + ns_votes)\n",
    "        assert (yes_votes + ns_votes).shape == yes_votes.shape\n",
    "\n",
    "        y[i,1] = np.round(np.mean(yes_votes+ns_votes + 1e-10)).astype(np.int)  # added constant to round 0.5 to 1\n",
    "        y[i,0] = 1 - y[i,1]\n",
    "        if len(set(yes_votes)) != 1:\n",
    "            disagreement += 1\n",
    "                    \n",
    "    if i%1000 == 0:\n",
    "        print('Iteration ' + str(i))\n",
    "        \n",
    "        \n",
    "        \n",
    "        \n",
    "        \n",
    "# font = {'family' : 'normal',\n",
    "#         'weight' : 'normal',\n",
    "#         'size'   : 12}\n",
    "\n",
    "# matplotlib.rc('font', **font)\n",
    "\n",
    "# labels = ['A', 'B', 'C', 'D']\n",
    "# maj_votes_array = np.vstack([np.sum(majority_votes[0],0), np.sum(majority_votes[1],0), np.sum(majority_votes[2],0)\n",
    "#         , np.sum(majority_votes[3],0)])\n",
    "\n",
    "\n",
    "# x = np.arange(len(labels))  # the label locations\n",
    "# width = 0.35  # the width of the bars\n",
    "\n",
    "# fig, ax = plt.subplots(1,3, figsize=(10,3), gridspec_kw={'width_ratios': [2, 2, 2]})\n",
    "# rects1 = ax[2].bar(x - width/2, maj_votes_array[:,0], width, label='Noise', alpha=0.5)\n",
    "# rects2 = ax[2].bar(x + width/2, maj_votes_array[:,1], width, label='Mozz', alpha=0.5)\n",
    "\n",
    "# # Add some text for labels, title and custom x-axis tick labels, etc.\n",
    "# ax[2].set_ylabel('Labels per group')\n",
    "# ax[2].set_xlabel('(c) Group')\n",
    "# ax[2].set_xticks(x)\n",
    "# ax[2].set_xticklabels(labels)\n",
    "# ax[2].legend(loc='upper left')\n",
    "\n",
    "\n",
    "# def autolabel(rects):\n",
    "#     \"\"\"Attach a text label above each bar in *rects*, displaying its height.\"\"\"\n",
    "#     for rect in rects:\n",
    "#         height = rect.get_height()\n",
    "#         ax[2].annotate('{:.0f}'.format(height),\n",
    "#                     xy=(rect.get_x() + rect.get_width() / 2, height),\n",
    "#                     xytext=(0, 3),  # 3 points vertical offset\n",
    "#                     textcoords=\"offset points\",\n",
    "#                     ha='center', va='bottom', fontsize=8 )\n",
    "\n",
    "\n",
    "\n",
    "# autolabel(rects1)\n",
    "# autolabel(rects2)\n",
    "# plt.grid(axis='y')\n",
    "# plt.ylim([0,40000])\n",
    "\n",
    "\n",
    "\n",
    "\n",
    "# ax[0].hist(count, bins=33, log=True, alpha=0.5, rwidth=0.7, align='mid')\n",
    "# plt.grid(axis='y')\n",
    "# ax[0].set_ylabel('Frequency')\n",
    "# ax[0].set_xlabel('(a) Labels per audio clip')\n",
    "# # ax[0].tick_params(axis ='both', which ='both', length = 2) \n",
    "\n",
    "\n",
    "# ax[1].plot(labeller_counts, '-', alpha=0.5, linewidth=2) ## sort\n",
    "# ax[1].set_ylabel('Labels per user')\n",
    "# ax[1].set_xlabel('(b) User ID')\n",
    "\n",
    "\n",
    "# # ax[0].minorticks_on()\n",
    "\n",
    "\n",
    "\n",
    "# ax[0].grid(axis='y')\n",
    "# ax[1].grid(axis='y')\n",
    "# ax[2].grid(axis='y')\n",
    "\n",
    "\n",
    "# fig.tight_layout()\n",
    "# # plt.savefig('Metadata_not_sure_into_yes_single_not_sure_into_0_5_1second.pdf')\n",
    "# plt.show()\n",
    "\n"
   ]
  },
  {
   "cell_type": "code",
   "execution_count": null,
   "metadata": {},
   "outputs": [],
   "source": [
    "# Number of unique sound chunks: 80100\n",
    "# Number of labels: 190,000. 110000 only labelled ONCE\n",
    "\n",
    "print(disagreement/n_multiple_labels)\n",
    "print(n_multiple_labels/len(audio_ids))\n",
    "print(n_multiple_labels, len(audio_ids))"
   ]
  },
  {
   "cell_type": "code",
   "execution_count": null,
   "metadata": {},
   "outputs": [],
   "source": [
    "n_mosq = len(np.where(df_full['sound_type'] == 'mosquito')[0])\n",
    "n_back = len(np.where(df_full['sound_type'] == 'background')[0])\n",
    "n_not_sure = len(np.where(df_full['sound_type'] == 'not_sure')[0])"
   ]
  },
  {
   "cell_type": "code",
   "execution_count": null,
   "metadata": {},
   "outputs": [],
   "source": [
    "print(n_mosq, n_back, n_not_sure)"
   ]
  },
  {
   "cell_type": "code",
   "execution_count": null,
   "metadata": {},
   "outputs": [],
   "source": [
    "len(np.where(y[:,0]==1)[0])/len(y)"
   ]
  },
  {
   "cell_type": "code",
   "execution_count": 24,
   "metadata": {},
   "outputs": [
    {
     "ename": "ValueError",
     "evalue": "The truth value of a Series is ambiguous. Use a.empty, a.bool(), a.item(), a.any() or a.all().",
     "output_type": "error",
     "traceback": [
      "\u001b[0;31m---------------------------------------------------------------------------\u001b[0m",
      "\u001b[0;31mValueError\u001b[0m                                Traceback (most recent call last)",
      "\u001b[0;32m<ipython-input-24-9396c45353e1>\u001b[0m in \u001b[0;36m<module>\u001b[0;34m()\u001b[0m\n\u001b[0;32m----> 1\u001b[0;31m \u001b[0msubject_set\u001b[0m\u001b[0;34m,\u001b[0m \u001b[0msubject_set_counts_idx\u001b[0m\u001b[0;34m,\u001b[0m \u001b[0msubject_set_counts_unique\u001b[0m \u001b[0;34m=\u001b[0m \u001b[0mnp\u001b[0m\u001b[0;34m.\u001b[0m\u001b[0munique\u001b[0m\u001b[0;34m(\u001b[0m\u001b[0mx\u001b[0m\u001b[0;34m,\u001b[0m \u001b[0mreturn_counts\u001b[0m\u001b[0;34m=\u001b[0m\u001b[0;32mTrue\u001b[0m\u001b[0;34m,\u001b[0m \u001b[0mreturn_index\u001b[0m\u001b[0;34m=\u001b[0m\u001b[0;32mTrue\u001b[0m\u001b[0;34m)\u001b[0m\u001b[0;34m\u001b[0m\u001b[0m\n\u001b[0m\u001b[1;32m      2\u001b[0m \u001b[0msubject_set_counts_unique\u001b[0m\u001b[0;34m\u001b[0m\u001b[0m\n\u001b[1;32m      3\u001b[0m \u001b[0;34m\u001b[0m\u001b[0m\n\u001b[1;32m      4\u001b[0m \u001b[0;34m\u001b[0m\u001b[0m\n\u001b[1;32m      5\u001b[0m \u001b[0ma\u001b[0m \u001b[0;34m=\u001b[0m \u001b[0mnp\u001b[0m\u001b[0;34m.\u001b[0m\u001b[0margsort\u001b[0m\u001b[0;34m(\u001b[0m\u001b[0msubject_set_counts_idx\u001b[0m\u001b[0;34m)\u001b[0m  \u001b[0;31m# Retrieve order of sorted items\u001b[0m\u001b[0;34m\u001b[0m\u001b[0m\n",
      "\u001b[0;32m~/anaconda3/envs/tensorflow/lib/python3.6/site-packages/numpy/lib/arraysetops.py\u001b[0m in \u001b[0;36munique\u001b[0;34m(ar, return_index, return_inverse, return_counts, axis)\u001b[0m\n\u001b[1;32m    221\u001b[0m     \u001b[0mar\u001b[0m \u001b[0;34m=\u001b[0m \u001b[0mnp\u001b[0m\u001b[0;34m.\u001b[0m\u001b[0masanyarray\u001b[0m\u001b[0;34m(\u001b[0m\u001b[0mar\u001b[0m\u001b[0;34m)\u001b[0m\u001b[0;34m\u001b[0m\u001b[0m\n\u001b[1;32m    222\u001b[0m     \u001b[0;32mif\u001b[0m \u001b[0maxis\u001b[0m \u001b[0;32mis\u001b[0m \u001b[0;32mNone\u001b[0m\u001b[0;34m:\u001b[0m\u001b[0;34m\u001b[0m\u001b[0m\n\u001b[0;32m--> 223\u001b[0;31m         \u001b[0;32mreturn\u001b[0m \u001b[0m_unique1d\u001b[0m\u001b[0;34m(\u001b[0m\u001b[0mar\u001b[0m\u001b[0;34m,\u001b[0m \u001b[0mreturn_index\u001b[0m\u001b[0;34m,\u001b[0m \u001b[0mreturn_inverse\u001b[0m\u001b[0;34m,\u001b[0m \u001b[0mreturn_counts\u001b[0m\u001b[0;34m)\u001b[0m\u001b[0;34m\u001b[0m\u001b[0m\n\u001b[0m\u001b[1;32m    224\u001b[0m     \u001b[0;32mif\u001b[0m \u001b[0;32mnot\u001b[0m \u001b[0;34m(\u001b[0m\u001b[0;34m-\u001b[0m\u001b[0mar\u001b[0m\u001b[0;34m.\u001b[0m\u001b[0mndim\u001b[0m \u001b[0;34m<=\u001b[0m \u001b[0maxis\u001b[0m \u001b[0;34m<\u001b[0m \u001b[0mar\u001b[0m\u001b[0;34m.\u001b[0m\u001b[0mndim\u001b[0m\u001b[0;34m)\u001b[0m\u001b[0;34m:\u001b[0m\u001b[0;34m\u001b[0m\u001b[0m\n\u001b[1;32m    225\u001b[0m         \u001b[0;32mraise\u001b[0m \u001b[0mValueError\u001b[0m\u001b[0;34m(\u001b[0m\u001b[0;34m'Invalid axis kwarg specified for unique'\u001b[0m\u001b[0;34m)\u001b[0m\u001b[0;34m\u001b[0m\u001b[0m\n",
      "\u001b[0;32m~/anaconda3/envs/tensorflow/lib/python3.6/site-packages/numpy/lib/arraysetops.py\u001b[0m in \u001b[0;36m_unique1d\u001b[0;34m(ar, return_index, return_inverse, return_counts)\u001b[0m\n\u001b[1;32m    278\u001b[0m \u001b[0;34m\u001b[0m\u001b[0m\n\u001b[1;32m    279\u001b[0m     \u001b[0;32mif\u001b[0m \u001b[0moptional_indices\u001b[0m\u001b[0;34m:\u001b[0m\u001b[0;34m\u001b[0m\u001b[0m\n\u001b[0;32m--> 280\u001b[0;31m         \u001b[0mperm\u001b[0m \u001b[0;34m=\u001b[0m \u001b[0mar\u001b[0m\u001b[0;34m.\u001b[0m\u001b[0margsort\u001b[0m\u001b[0;34m(\u001b[0m\u001b[0mkind\u001b[0m\u001b[0;34m=\u001b[0m\u001b[0;34m'mergesort'\u001b[0m \u001b[0;32mif\u001b[0m \u001b[0mreturn_index\u001b[0m \u001b[0;32melse\u001b[0m \u001b[0;34m'quicksort'\u001b[0m\u001b[0;34m)\u001b[0m\u001b[0;34m\u001b[0m\u001b[0m\n\u001b[0m\u001b[1;32m    281\u001b[0m         \u001b[0maux\u001b[0m \u001b[0;34m=\u001b[0m \u001b[0mar\u001b[0m\u001b[0;34m[\u001b[0m\u001b[0mperm\u001b[0m\u001b[0;34m]\u001b[0m\u001b[0;34m\u001b[0m\u001b[0m\n\u001b[1;32m    282\u001b[0m     \u001b[0;32melse\u001b[0m\u001b[0;34m:\u001b[0m\u001b[0;34m\u001b[0m\u001b[0m\n",
      "\u001b[0;32m~/anaconda3/envs/tensorflow/lib/python3.6/site-packages/pandas/core/generic.py\u001b[0m in \u001b[0;36m__nonzero__\u001b[0;34m(self)\u001b[0m\n\u001b[1;32m   1119\u001b[0m         raise ValueError(\"The truth value of a {0} is ambiguous. \"\n\u001b[1;32m   1120\u001b[0m                          \u001b[0;34m\"Use a.empty, a.bool(), a.item(), a.any() or a.all().\"\u001b[0m\u001b[0;34m\u001b[0m\u001b[0m\n\u001b[0;32m-> 1121\u001b[0;31m                          .format(self.__class__.__name__))\n\u001b[0m\u001b[1;32m   1122\u001b[0m \u001b[0;34m\u001b[0m\u001b[0m\n\u001b[1;32m   1123\u001b[0m     \u001b[0m__bool__\u001b[0m \u001b[0;34m=\u001b[0m \u001b[0m__nonzero__\u001b[0m\u001b[0;34m\u001b[0m\u001b[0m\n",
      "\u001b[0;31mValueError\u001b[0m: The truth value of a Series is ambiguous. Use a.empty, a.bool(), a.item(), a.any() or a.all()."
     ]
    }
   ],
   "source": [
    "subject_set, subject_set_counts_idx, subject_set_counts_unique = np.unique(x, return_counts=True, return_index=True)\n",
    "subject_set_counts_unique\n",
    "\n",
    "\n",
    "a = np.argsort(subject_set_counts_idx)  # Retrieve order of sorted items"
   ]
  },
  {
   "cell_type": "code",
   "execution_count": 25,
   "metadata": {},
   "outputs": [
    {
     "ename": "NameError",
     "evalue": "name 'subject_set_counts_unique' is not defined",
     "output_type": "error",
     "traceback": [
      "\u001b[0;31m---------------------------------------------------------------------------\u001b[0m",
      "\u001b[0;31mNameError\u001b[0m                                 Traceback (most recent call last)",
      "\u001b[0;32m<ipython-input-25-e5ff083fa0fd>\u001b[0m in \u001b[0;36m<module>\u001b[0;34m()\u001b[0m\n\u001b[1;32m      1\u001b[0m \u001b[0mindex\u001b[0m \u001b[0;34m=\u001b[0m \u001b[0;36m0\u001b[0m  \u001b[0;31m# Traverse y (majority voted) in order to give label distribution per class\u001b[0m\u001b[0;34m\u001b[0m\u001b[0m\n\u001b[1;32m      2\u001b[0m \u001b[0mmajority_votes\u001b[0m \u001b[0;34m=\u001b[0m \u001b[0;34m[\u001b[0m\u001b[0;34m]\u001b[0m\u001b[0;34m\u001b[0m\u001b[0m\n\u001b[0;32m----> 3\u001b[0;31m \u001b[0;32mfor\u001b[0m \u001b[0mi\u001b[0m \u001b[0;32min\u001b[0m \u001b[0mrange\u001b[0m\u001b[0;34m(\u001b[0m\u001b[0mlen\u001b[0m\u001b[0;34m(\u001b[0m\u001b[0msubject_set_counts_unique\u001b[0m\u001b[0;34m[\u001b[0m\u001b[0ma\u001b[0m\u001b[0;34m]\u001b[0m\u001b[0;34m)\u001b[0m\u001b[0;34m)\u001b[0m\u001b[0;34m:\u001b[0m\u001b[0;34m\u001b[0m\u001b[0m\n\u001b[0m\u001b[1;32m      4\u001b[0m     \u001b[0mmajority_votes\u001b[0m\u001b[0;34m.\u001b[0m\u001b[0mappend\u001b[0m\u001b[0;34m(\u001b[0m\u001b[0my\u001b[0m\u001b[0;34m[\u001b[0m\u001b[0mindex\u001b[0m\u001b[0;34m:\u001b[0m\u001b[0mindex\u001b[0m\u001b[0;34m+\u001b[0m\u001b[0msubject_set_counts_unique\u001b[0m\u001b[0;34m[\u001b[0m\u001b[0ma\u001b[0m\u001b[0;34m]\u001b[0m\u001b[0;34m[\u001b[0m\u001b[0mi\u001b[0m\u001b[0;34m]\u001b[0m\u001b[0;34m]\u001b[0m\u001b[0;34m)\u001b[0m\u001b[0;34m\u001b[0m\u001b[0m\n\u001b[1;32m      5\u001b[0m     \u001b[0mindex\u001b[0m \u001b[0;34m+=\u001b[0m \u001b[0msubject_set_counts_unique\u001b[0m\u001b[0;34m[\u001b[0m\u001b[0ma\u001b[0m\u001b[0;34m]\u001b[0m\u001b[0;34m[\u001b[0m\u001b[0mi\u001b[0m\u001b[0;34m]\u001b[0m\u001b[0;34m\u001b[0m\u001b[0m\n",
      "\u001b[0;31mNameError\u001b[0m: name 'subject_set_counts_unique' is not defined"
     ]
    }
   ],
   "source": [
    "index = 0  # Traverse y (majority voted) in order to give label distribution per class\n",
    "majority_votes = []\n",
    "for i in range(len(subject_set_counts_unique[a])):\n",
    "    majority_votes.append(y[index:index+subject_set_counts_unique[a][i]])\n",
    "    index += subject_set_counts_unique[a][i]"
   ]
  },
  {
   "cell_type": "code",
   "execution_count": 26,
   "metadata": {},
   "outputs": [
    {
     "name": "stdout",
     "output_type": "stream",
     "text": [
      "(array([ 1,  2,  3,  4,  5,  6,  7,  8,  9, 10, 11, 12, 13, 14, 15, 17, 19,\n",
      "       23, 33]), array([22391, 24598, 17756,  9376,  3884,  1455,   430,   128,    45,\n",
      "          18,     5,     3,     2,     1,     2,     3,     2,     1,\n",
      "           1]))\n",
      "0\n"
     ]
    }
   ],
   "source": [
    "print(np.unique(count, return_counts=True))\n",
    "print(majority_votes.__len__())"
   ]
  },
  {
   "cell_type": "code",
   "execution_count": 33,
   "metadata": {},
   "outputs": [
    {
     "ename": "NameError",
     "evalue": "name 'majority_votes' is not defined",
     "output_type": "error",
     "traceback": [
      "\u001b[0;31m---------------------------------------------------------------------------\u001b[0m",
      "\u001b[0;31mNameError\u001b[0m                                 Traceback (most recent call last)",
      "\u001b[0;32m<ipython-input-33-6577daadf753>\u001b[0m in \u001b[0;36m<module>\u001b[0;34m()\u001b[0m\n\u001b[1;32m      8\u001b[0m \u001b[0;34m\u001b[0m\u001b[0m\n\u001b[1;32m      9\u001b[0m \u001b[0mlabels\u001b[0m \u001b[0;34m=\u001b[0m \u001b[0;34m[\u001b[0m\u001b[0;34m'A'\u001b[0m\u001b[0;34m,\u001b[0m \u001b[0;34m'B'\u001b[0m\u001b[0;34m,\u001b[0m \u001b[0;34m'C'\u001b[0m\u001b[0;34m,\u001b[0m \u001b[0;34m'D'\u001b[0m\u001b[0;34m]\u001b[0m\u001b[0;34m\u001b[0m\u001b[0m\n\u001b[0;32m---> 10\u001b[0;31m maj_votes_array = np.vstack([np.sum(majority_votes[0],0), np.sum(majority_votes[1],0), np.sum(majority_votes[2],0)\n\u001b[0m\u001b[1;32m     11\u001b[0m         , np.sum(majority_votes[3],0)])\n\u001b[1;32m     12\u001b[0m \u001b[0;34m\u001b[0m\u001b[0m\n",
      "\u001b[0;31mNameError\u001b[0m: name 'majority_votes' is not defined"
     ]
    }
   ],
   "source": [
    "## Grouped bar plot:\n",
    "\n",
    "font = {'family' : 'normal',\n",
    "        'weight' : 'normal',\n",
    "        'size'   : 12}\n",
    "\n",
    "matplotlib.rc('font', **font)\n",
    "\n",
    "labels = ['A', 'B', 'C', 'D']\n",
    "maj_votes_array = np.vstack([np.sum(majority_votes[0],0), np.sum(majority_votes[1],0), np.sum(majority_votes[2],0)\n",
    "        , np.sum(majority_votes[3],0)])\n",
    "\n",
    "\n",
    "x = np.arange(len(labels))  # the label locations\n",
    "width = 0.35  # the width of the bars\n",
    "\n",
    "fig, ax = plt.subplots(1,3, figsize=(10,3), gridspec_kw={'width_ratios': [2, 2, 2]})\n",
    "rects1 = ax[2].bar(x - width/2, maj_votes_array[:,0], width, label='Noise', alpha=0.5)\n",
    "rects2 = ax[2].bar(x + width/2, maj_votes_array[:,1], width, label='Mozz', alpha=0.5)\n",
    "\n",
    "# Add some text for labels, title and custom x-axis tick labels, etc.\n",
    "ax[2].set_ylabel('Labels per group')\n",
    "ax[2].set_xlabel('(c) Group')\n",
    "ax[2].set_xticks(x)\n",
    "ax[2].set_xticklabels(labels)\n",
    "ax[2].legend(loc='upper left')\n",
    "\n",
    "\n",
    "def autolabel(rects):\n",
    "    \"\"\"Attach a text label above each bar in *rects*, displaying its height.\"\"\"\n",
    "    for rect in rects:\n",
    "        height = rect.get_height()\n",
    "        ax[2].annotate('{:.0f}'.format(height),\n",
    "                    xy=(rect.get_x() + rect.get_width() / 2, height),\n",
    "                    xytext=(0, 3),  # 3 points vertical offset\n",
    "                    textcoords=\"offset points\",\n",
    "                    ha='center', va='bottom', fontsize=8 )\n",
    "\n",
    "\n",
    "\n",
    "autolabel(rects1)\n",
    "autolabel(rects2)\n",
    "plt.grid(axis='y')\n",
    "plt.ylim([0,40000])\n",
    "\n",
    "\n",
    "\n",
    "\n",
    "ax[0].hist(count, bins=33, log=True, alpha=0.5, rwidth=0.7, align='mid')\n",
    "plt.grid(axis='y')\n",
    "ax[0].set_ylabel('Frequency')\n",
    "ax[0].set_xlabel('(a) Labels per audio clip')\n",
    "# ax[0].tick_params(axis ='both', which ='both', length = 2) \n",
    "\n",
    "\n",
    "ax[1].plot(labeller_counts, '-', alpha=0.5, linewidth=2) ## sort\n",
    "ax[1].set_ylabel('Labels per user')\n",
    "ax[1].set_xlabel('(b) User ID')\n",
    "\n",
    "\n",
    "# ax[0].minorticks_on()\n",
    "\n",
    "\n",
    "\n",
    "ax[0].grid(axis='y')\n",
    "ax[1].grid(axis='y')\n",
    "ax[2].grid(axis='y')\n",
    "\n",
    "\n",
    "fig.tight_layout()\n",
    "# plt.savefig('Metadata_not_sure_into_yes_single_not_sure_into_0_5_1second.pdf')\n",
    "plt.show()\n",
    "\n"
   ]
  },
  {
   "cell_type": "code",
   "execution_count": 27,
   "metadata": {},
   "outputs": [
    {
     "name": "stdout",
     "output_type": "stream",
     "text": [
      "22391\n",
      "24598\n",
      "17756\n",
      "9376\n",
      "9376\n",
      "9376\n",
      "128\n"
     ]
    }
   ],
   "source": [
    "print(len(np.where(count==1)[0]))\n",
    "print(len(np.where(count==2)[0]))\n",
    "print(len(np.where(count==3)[0]))\n",
    "print(len(np.where(count==4)[0]))\n",
    "print(len(np.where(count==4)[0]))\n",
    "\n",
    "print(len(np.where(count==4)[0]))\n",
    "\n",
    "print(len(np.where(count==8)[0]))\n",
    "\n"
   ]
  }
 ],
 "metadata": {
  "kernelspec": {
   "display_name": "Python [conda env:tensorflow]",
   "language": "python",
   "name": "conda-env-tensorflow-py"
  },
  "language_info": {
   "codemirror_mode": {
    "name": "ipython",
    "version": 3
   },
   "file_extension": ".py",
   "mimetype": "text/x-python",
   "name": "python",
   "nbconvert_exporter": "python",
   "pygments_lexer": "ipython3",
   "version": "3.6.4"
  }
 },
 "nbformat": 4,
 "nbformat_minor": 2
}
