{
 "cells": [
  {
   "cell_type": "code",
   "execution_count": 1,
   "metadata": {},
   "outputs": [
    {
     "name": "stderr",
     "output_type": "stream",
     "text": [
      "C:\\Users\\ikiskin\\AppData\\Local\\conda\\conda\\envs\\tf-gpu\\lib\\site-packages\\librosa\\util\\decorators.py:9: NumbaDeprecationWarning: \u001b[1mAn import was requested from a module that has moved location.\n",
      "Import requested from: 'numba.decorators', please update to use 'numba.core.decorators' or pin to Numba version 0.48.0. This alias will not be present in Numba version 0.50.0.\u001b[0m\n",
      "  from numba.decorators import jit as optional_jit\n",
      "C:\\Users\\ikiskin\\AppData\\Local\\conda\\conda\\envs\\tf-gpu\\lib\\site-packages\\librosa\\util\\decorators.py:9: NumbaDeprecationWarning: \u001b[1mAn import was requested from a module that has moved location.\n",
      "Import of 'jit' requested from: 'numba.decorators', please update to use 'numba.core.decorators' or pin to Numba version 0.48.0. This alias will not be present in Numba version 0.50.0.\u001b[0m\n",
      "  from numba.decorators import jit as optional_jit\n",
      "Using TensorFlow backend.\n",
      "C:\\Users\\ikiskin\\AppData\\Local\\conda\\conda\\envs\\tf-gpu\\lib\\site-packages\\tensorflow\\python\\framework\\dtypes.py:516: FutureWarning: Passing (type, 1) or '1type' as a synonym of type is deprecated; in a future version of numpy, it will be understood as (type, (1,)) / '(1,)type'.\n",
      "  _np_qint8 = np.dtype([(\"qint8\", np.int8, 1)])\n",
      "C:\\Users\\ikiskin\\AppData\\Local\\conda\\conda\\envs\\tf-gpu\\lib\\site-packages\\tensorflow\\python\\framework\\dtypes.py:517: FutureWarning: Passing (type, 1) or '1type' as a synonym of type is deprecated; in a future version of numpy, it will be understood as (type, (1,)) / '(1,)type'.\n",
      "  _np_quint8 = np.dtype([(\"quint8\", np.uint8, 1)])\n",
      "C:\\Users\\ikiskin\\AppData\\Local\\conda\\conda\\envs\\tf-gpu\\lib\\site-packages\\tensorflow\\python\\framework\\dtypes.py:518: FutureWarning: Passing (type, 1) or '1type' as a synonym of type is deprecated; in a future version of numpy, it will be understood as (type, (1,)) / '(1,)type'.\n",
      "  _np_qint16 = np.dtype([(\"qint16\", np.int16, 1)])\n",
      "C:\\Users\\ikiskin\\AppData\\Local\\conda\\conda\\envs\\tf-gpu\\lib\\site-packages\\tensorflow\\python\\framework\\dtypes.py:519: FutureWarning: Passing (type, 1) or '1type' as a synonym of type is deprecated; in a future version of numpy, it will be understood as (type, (1,)) / '(1,)type'.\n",
      "  _np_quint16 = np.dtype([(\"quint16\", np.uint16, 1)])\n",
      "C:\\Users\\ikiskin\\AppData\\Local\\conda\\conda\\envs\\tf-gpu\\lib\\site-packages\\tensorflow\\python\\framework\\dtypes.py:520: FutureWarning: Passing (type, 1) or '1type' as a synonym of type is deprecated; in a future version of numpy, it will be understood as (type, (1,)) / '(1,)type'.\n",
      "  _np_qint32 = np.dtype([(\"qint32\", np.int32, 1)])\n",
      "C:\\Users\\ikiskin\\AppData\\Local\\conda\\conda\\envs\\tf-gpu\\lib\\site-packages\\tensorflow\\python\\framework\\dtypes.py:525: FutureWarning: Passing (type, 1) or '1type' as a synonym of type is deprecated; in a future version of numpy, it will be understood as (type, (1,)) / '(1,)type'.\n",
      "  np_resource = np.dtype([(\"resource\", np.ubyte, 1)])\n",
      "C:\\Users\\ikiskin\\AppData\\Local\\conda\\conda\\envs\\tf-gpu\\lib\\site-packages\\tensorboard\\compat\\tensorflow_stub\\dtypes.py:541: FutureWarning: Passing (type, 1) or '1type' as a synonym of type is deprecated; in a future version of numpy, it will be understood as (type, (1,)) / '(1,)type'.\n",
      "  _np_qint8 = np.dtype([(\"qint8\", np.int8, 1)])\n",
      "C:\\Users\\ikiskin\\AppData\\Local\\conda\\conda\\envs\\tf-gpu\\lib\\site-packages\\tensorboard\\compat\\tensorflow_stub\\dtypes.py:542: FutureWarning: Passing (type, 1) or '1type' as a synonym of type is deprecated; in a future version of numpy, it will be understood as (type, (1,)) / '(1,)type'.\n",
      "  _np_quint8 = np.dtype([(\"quint8\", np.uint8, 1)])\n",
      "C:\\Users\\ikiskin\\AppData\\Local\\conda\\conda\\envs\\tf-gpu\\lib\\site-packages\\tensorboard\\compat\\tensorflow_stub\\dtypes.py:543: FutureWarning: Passing (type, 1) or '1type' as a synonym of type is deprecated; in a future version of numpy, it will be understood as (type, (1,)) / '(1,)type'.\n",
      "  _np_qint16 = np.dtype([(\"qint16\", np.int16, 1)])\n",
      "C:\\Users\\ikiskin\\AppData\\Local\\conda\\conda\\envs\\tf-gpu\\lib\\site-packages\\tensorboard\\compat\\tensorflow_stub\\dtypes.py:544: FutureWarning: Passing (type, 1) or '1type' as a synonym of type is deprecated; in a future version of numpy, it will be understood as (type, (1,)) / '(1,)type'.\n",
      "  _np_quint16 = np.dtype([(\"quint16\", np.uint16, 1)])\n",
      "C:\\Users\\ikiskin\\AppData\\Local\\conda\\conda\\envs\\tf-gpu\\lib\\site-packages\\tensorboard\\compat\\tensorflow_stub\\dtypes.py:545: FutureWarning: Passing (type, 1) or '1type' as a synonym of type is deprecated; in a future version of numpy, it will be understood as (type, (1,)) / '(1,)type'.\n",
      "  _np_qint32 = np.dtype([(\"qint32\", np.int32, 1)])\n",
      "C:\\Users\\ikiskin\\AppData\\Local\\conda\\conda\\envs\\tf-gpu\\lib\\site-packages\\tensorboard\\compat\\tensorflow_stub\\dtypes.py:550: FutureWarning: Passing (type, 1) or '1type' as a synonym of type is deprecated; in a future version of numpy, it will be understood as (type, (1,)) / '(1,)type'.\n",
      "  np_resource = np.dtype([(\"resource\", np.ubyte, 1)])\n"
     ]
    }
   ],
   "source": [
    "import pandas as pd\n",
    "import numpy as np\n",
    "import librosa\n",
    "import librosa.display\n",
    "import matplotlib.pyplot as plt\n",
    "import matplotlib\n",
    "\n",
    "\n",
    "# Notification\n",
    "import time\n",
    "\n",
    "# File IO\n",
    "import h5py\n",
    "import os\n",
    "\n",
    "# Deep learning\n",
    "# Keras-related imports\n",
    "from keras.models import Sequential\n",
    "from keras.layers import Dense, Dropout, Activation, Flatten, LSTM\n",
    "from keras.layers import Convolution1D, MaxPooling2D, Convolution2D\n",
    "from keras import backend as K\n",
    "# K.set_image_dim_ordering('th')\n",
    "from keras.callbacks import ModelCheckpoint\n",
    "from keras.callbacks import RemoteMonitor\n",
    "from keras.callbacks import EarlyStopping\n",
    "from keras.models import load_model\n",
    "from keras.layers import Conv2D, MaxPooling2D\n",
    "\n",
    "\n",
    "# Result processing\n",
    "from sklearn.model_selection import train_test_split\n",
    "from sklearn.metrics import confusion_matrix\n",
    "from sklearn.utils.multiclass import unique_labels\n",
    "from sklearn.metrics import f1_score\n"
   ]
  },
  {
   "cell_type": "markdown",
   "metadata": {},
   "source": [
    "# Section 0: Perform feature transform, save data\n",
    "\n",
    "This section is used to create the $(\\mathbf{X},y)$ training set with feature choice parameterised by either `{'log-mel', 'mfcc'}`. Librosa is used to extract the features, and has further support for any features one may wish to choose.\n",
    "\n",
    "Once this section has been run once, the user is advised to skip to **Section 1** which deals with performing a baseline classification using a Convolutional Neural Network."
   ]
  },
  {
   "cell_type": "code",
   "execution_count": 15,
   "metadata": {
    "collapsed": true
   },
   "outputs": [],
   "source": [
    "# Parameterise feature transform here. The default is to use log-mel features, but the user may implement any choice\n",
    "# or use the raw time-series as preferred \n",
    "\n",
    "feature_type = 'log-mel'  # Select from {'log-mel', 'mfcc'}\n",
    "\n",
    "\n",
    "win_len = 0.1  # Window length of feature\n",
    "n_mels = 128  # Number of log-mel coefficients"
   ]
  },
  {
   "cell_type": "code",
   "execution_count": 16,
   "metadata": {
    "collapsed": true
   },
   "outputs": [],
   "source": [
    "# Select the root of the processed 1 second audio chunks, where votes have been aggregated already\n",
    "# This path is relative, and should by default point to the correct location\n",
    "\n",
    "wav_root = '../data/audio_1sec/'  "
   ]
  },
  {
   "cell_type": "code",
   "execution_count": 17,
   "metadata": {
    "collapsed": true
   },
   "outputs": [],
   "source": [
    "# Load the label information contained in the resolved 1 second chunks, with votes {'yes', 'no', 'not_sure'}\n",
    "\n",
    "df = pd.read_csv('../labels/audio_1sec.csv',  header=None, names=[\"path\", \"yes\", \"no\", \"not_sure\",\"subject_set\"])\n",
    "df['path'] = df['path'].astype(str) + '.wav'\n",
    "\n",
    "\n",
    "# Create the y vector by treating 'not_sure' as 0.5, 'yes' as 1.0, 'no' as 0.0 and average\n",
    "df['res'] = (df['yes'].astype(int)*1 + df['not_sure'].astype(int)*0.5) / (df['yes'] + df['no'] + df['not_sure']) >= 0.5\n",
    "total_audio_n = len(df.index.values.tolist())\n",
    "\n",
    "y = np.zeros((total_audio_n, 2))\n",
    "\n",
    "y[:,1] = np.array(np.array(df['res']).astype(int)).astype(int)\n",
    "y[:,0] = 1-y[:,1].astype(int)"
   ]
  },
  {
   "cell_type": "code",
   "execution_count": 18,
   "metadata": {
    "collapsed": true,
    "scrolled": true
   },
   "outputs": [],
   "source": [
    "# Initialise dimensions for feature transformation\n",
    "\n",
    "nfft = int(win_len * 8000)\n",
    "wav_path = wav_root + df[\"path\"]\n",
    "\n",
    "# Initialise empty X matrix\n",
    "wav, fs = librosa.load(wav_path.iloc[0],sr=None)  # Load one spectrogram file to calculate dimensions of entire set\n",
    "\n",
    "if feature_type == 'log-mel':    \n",
    "    spec = librosa.feature.melspectrogram(y=wav, sr=fs, n_mels=n_mels, n_fft=nfft*4, hop_length=nfft)\n",
    "             \n",
    "elif feature_type == 'mfcc':\n",
    "    spec = librosa.feature.mfcc(y=wav, sr=fs, n_mfcc=13, n_fft=nfft*4, hop_length=nfft)\n",
    "    \n",
    "l_spec = np.shape(spec)[1]  # Length of the spectral representation for each 2 second chunk\n",
    "h_spec = np.shape(spec)[0]  # This is also n_mels\n",
    "spec_matrix = np.zeros([len(y), h_spec, l_spec])  "
   ]
  },
  {
   "cell_type": "code",
   "execution_count": 19,
   "metadata": {},
   "outputs": [
    {
     "name": "stdout",
     "output_type": "stream",
     "text": [
      "Iteration 0 0 1052\n",
      "Iteration 1000 6 486\n",
      "Iteration 2000 12 501\n",
      "Iteration 3000 18 499\n",
      "Iteration 4000 25 498\n",
      "Iteration 5000 31 498\n",
      "Iteration 6000 37 497\n",
      "Iteration 7000 43 497\n",
      "Iteration 8000 49 497\n",
      "Iteration 9000 56 497\n",
      "Iteration 10000 62 497\n",
      "Iteration 11000 68 498\n",
      "Iteration 12000 75 498\n",
      "Iteration 13000 81 498\n",
      "Iteration 14000 87 498\n",
      "Iteration 15000 93 499\n",
      "Iteration 16000 100 499\n",
      "Iteration 17000 106 499\n",
      "Iteration 18000 112 499\n",
      "Iteration 19000 119 499\n",
      "Iteration 20000 125 499\n",
      "Iteration 21000 131 500\n",
      "Iteration 22000 138 500\n",
      "Iteration 23000 144 500\n",
      "Iteration 24000 150 500\n",
      "Iteration 25000 157 500\n",
      "Iteration 26000 163 499\n",
      "Iteration 27000 169 499\n",
      "Iteration 28000 175 499\n",
      "Iteration 29000 181 499\n",
      "Iteration 30000 188 499\n",
      "Iteration 31000 194 499\n",
      "Iteration 32000 200 500\n",
      "Iteration 33000 207 500\n",
      "Iteration 34000 213 500\n",
      "Iteration 35000 220 500\n",
      "Iteration 36000 226 500\n",
      "Iteration 37000 232 500\n",
      "Iteration 38000 238 500\n",
      "Iteration 39000 245 500\n",
      "Iteration 40000 251 500\n",
      "Iteration 41000 257 500\n",
      "Iteration 42000 263 500\n",
      "Iteration 43000 270 500\n",
      "Iteration 44000 276 500\n",
      "Iteration 45000 282 500\n",
      "Iteration 46000 289 500\n",
      "Iteration 47000 295 500\n",
      "Iteration 48000 301 500\n",
      "Iteration 49000 308 500\n",
      "Iteration 50000 314 500\n",
      "Iteration 51000 320 500\n",
      "Iteration 52000 327 501\n",
      "Iteration 53000 333 501\n",
      "Iteration 54000 339 501\n",
      "Iteration 55000 346 501\n",
      "Iteration 56000 352 501\n",
      "Iteration 57000 358 501\n",
      "Iteration 58000 365 501\n",
      "Iteration 59000 371 501\n",
      "Iteration 60000 377 501\n",
      "Iteration 61000 384 501\n",
      "Iteration 62000 390 501\n",
      "Iteration 63000 396 501\n",
      "Iteration 64000 403 501\n",
      "Iteration 65000 409 501\n",
      "Iteration 66000 415 501\n",
      "Iteration 67000 422 501\n",
      "Iteration 68000 428 501\n",
      "Iteration 69000 434 501\n",
      "Iteration 70000 440 501\n",
      "Iteration 71000 446 501\n",
      "Iteration 72000 453 501\n",
      "Iteration 73000 459 501\n",
      "Iteration 74000 465 501\n",
      "Iteration 75000 472 501\n",
      "Iteration 76000 478 501\n",
      "Iteration 77000 484 501\n",
      "Iteration 78000 491 501\n",
      "Iteration 79000 497 501\n"
     ]
    }
   ],
   "source": [
    "# Perform feature transformation and store result in pre-allocated spec_matrix\n",
    "\n",
    "start_time = time.time()\n",
    "for i in range(0, total_audio_n):\n",
    "#     if count[i] == 1:\n",
    "        \n",
    "        # Create X matrix\n",
    "    audio_file, fs = librosa.load(wav_path.loc[i],sr=None)\n",
    "    if feature_type == 'log-mel':\n",
    "        spec_matrix[i] = librosa.feature.melspectrogram(y=audio_file,\n",
    "                                                        sr=fs, n_mels=n_mels, n_fft=nfft*4, hop_length=nfft)\n",
    "\n",
    "    elif feature_type == 'mfcc':\n",
    "        spec_matrix[i] = librosa.feature.mfcc(y=audio_file,\n",
    "                                                        sr=fs, n_mfcc=13, n_fft=nfft*4, hop_length=nfft)            \n",
    "        \n",
    "    if i%1000 == 0:\n",
    "        time_used = time.time()-start_time\n",
    "        time_total = time_used * total_audio_n / (i+1)\n",
    "        \n",
    "        print('Iteration', str(i), \"%i\"%(time_used), \"%i\"%(time_total))\n",
    "\n"
   ]
  },
  {
   "cell_type": "code",
   "execution_count": 20,
   "metadata": {
    "collapsed": true
   },
   "outputs": [],
   "source": [
    "# Save files with file_name if not in path\n",
    "\n",
    "file_names = ['data_log-melnot_sure_single_into_0_5.h5', 'label_log-melnot_sure_single_into_0_5.h5']\n",
    "\n",
    "for file_name in file_names:\n",
    "    if not os.path.isfile('../proc_data/' + file_name):\n",
    "        hf = h5py.File('../proc_data/data_' + feature_type + 'not_sure_single_into_0_5.h5', 'w')\n",
    "        hf.create_dataset('../proc_data/data_' + feature_type + '_majority_labels_not_sure_single_into_0_5',\n",
    "                          data=spec_matrix)\n",
    "        hf.close()\n",
    "        \n",
    "        hf = h5py.File('../proc_data/label_' + feature_type + 'not_sure_single_into_0_5.h5', 'w')\n",
    "        hf.create_dataset('../proc_data/label_' + feature_type + '_majority_labels_not_sure_single_into_0_5', data=y)\n",
    "        hf.close()"
   ]
  },
  {
   "cell_type": "markdown",
   "metadata": {},
   "source": [
    "# Section 1: Load and classify\n",
    "\n",
    "If the feature transform has already been performed and the data is saved in `proc_data`, load the data in the cell below and perform classification as outlined by the following cells."
   ]
  },
  {
   "cell_type": "code",
   "execution_count": 3,
   "metadata": {},
   "outputs": [],
   "source": [
    "# Load files\n",
    "feature_type = 'log-mel'\n",
    "save_name = 'not_sure_single_into_0_5'\n",
    "\n",
    "hf = h5py.File('../proc_data/data_' + feature_type + save_name + '.h5', 'r')\n",
    "spec_matrix_read = np.array(hf.get('../proc_data/data_' + feature_type + '_majority_labels_' + save_name))\n",
    "hf.close()\n",
    "\n",
    "hf = h5py.File('../proc_data/label_' + feature_type + save_name + '.h5', 'r')\n",
    "y = np.array(hf.get('../proc_data/label_' + feature_type + '_majority_labels_' + save_name))\n",
    "hf.close()\n"
   ]
  },
  {
   "cell_type": "markdown",
   "metadata": {},
   "source": [
    "# Create dataset \n"
   ]
  },
  {
   "cell_type": "code",
   "execution_count": 4,
   "metadata": {},
   "outputs": [],
   "source": [
    "# Convert to dB\n",
    "\n",
    "spec_matrix_db = np.zeros_like(spec_matrix_read)\n",
    "\n",
    "for i, spec in enumerate(spec_matrix_read):\n",
    "    spec_matrix_db[i] = librosa.power_to_db(spec,ref=np.max)"
   ]
  },
  {
   "cell_type": "markdown",
   "metadata": {},
   "source": [
    "## Train Convolutional Neural Network\n",
    "\n",
    "First, the data is split tenfold using `sklearn`'s `train_test_split` with the random states given in the `random_state` vector.\n",
    "\n",
    "The neural network cross-entropy weights are set in the dictionary `class_weight`, with the key `0` referring to the noise class, and `1` referring to the mosquito class"
   ]
  },
  {
   "cell_type": "code",
   "execution_count": 5,
   "metadata": {
    "scrolled": false
   },
   "outputs": [
    {
     "name": "stdout",
     "output_type": "stream",
     "text": [
      "WARNING:tensorflow:From C:\\Users\\ikiskin\\AppData\\Local\\conda\\conda\\envs\\tf-gpu\\lib\\site-packages\\keras\\backend\\tensorflow_backend.py:4070: The name tf.nn.max_pool is deprecated. Please use tf.nn.max_pool2d instead.\n",
      "\n",
      "WARNING:tensorflow:From C:\\Users\\ikiskin\\AppData\\Local\\conda\\conda\\envs\\tf-gpu\\lib\\site-packages\\keras\\backend\\tensorflow_backend.py:422: The name tf.global_variables is deprecated. Please use tf.compat.v1.global_variables instead.\n",
      "\n",
      "Epoch 1/3\n",
      "53373/53373 [==============================] - 9s 174us/step - loss: 1.0211 - accuracy: 0.7780\n",
      "Epoch 2/3\n",
      "53373/53373 [==============================] - 8s 142us/step - loss: 0.9533 - accuracy: 0.8113\n",
      "Epoch 3/3\n",
      "53373/53373 [==============================] - 8s 141us/step - loss: 0.9401 - accuracy: 0.8160\n",
      "10 0.4947720469075895 0.8071436882019043\n",
      "Epoch 1/3\n",
      "53373/53373 [==============================] - 8s 141us/step - loss: 1.0288 - accuracy: 0.7740\n",
      "Epoch 2/3\n",
      "53373/53373 [==============================] - 7s 137us/step - loss: 0.9582 - accuracy: 0.8038\n",
      "Epoch 3/3\n",
      "53373/53373 [==============================] - 7s 136us/step - loss: 0.9385 - accuracy: 0.8161\n",
      "20 0.4633132185622726 0.8548442125320435\n",
      "Epoch 1/3\n",
      "53373/53373 [==============================] - 8s 142us/step - loss: 1.0040 - accuracy: 0.7813\n",
      "Epoch 2/3\n",
      "53373/53373 [==============================] - 7s 139us/step - loss: 0.9406 - accuracy: 0.8086\n",
      "Epoch 3/3\n",
      "53373/53373 [==============================] - 7s 139us/step - loss: 0.9238 - accuracy: 0.8225\n",
      "30 0.5733715837105824 0.7878960967063904\n",
      "Epoch 1/3\n",
      "53373/53373 [==============================] - 7s 140us/step - loss: 1.0142 - accuracy: 0.7759\n",
      "Epoch 2/3\n",
      "53373/53373 [==============================] - 7s 137us/step - loss: 0.9421 - accuracy: 0.8169\n",
      "Epoch 3/3\n",
      "53373/53373 [==============================] - 7s 138us/step - loss: 0.9256 - accuracy: 0.8237\n",
      "40 0.5013170233535179 0.8563277125358582\n",
      "Epoch 1/3\n",
      "53373/53373 [==============================] - 7s 140us/step - loss: 1.0222 - accuracy: 0.7723\n",
      "Epoch 2/3\n",
      "53373/53373 [==============================] - 7s 138us/step - loss: 0.9558 - accuracy: 0.8086\n",
      "Epoch 3/3\n",
      "53373/53373 [==============================] - 7s 138us/step - loss: 0.9367 - accuracy: 0.8148\n",
      "50 0.4766273802192582 0.8347597718238831\n",
      "Epoch 1/3\n",
      "53373/53373 [==============================] - 8s 144us/step - loss: 1.0168 - accuracy: 0.7769\n",
      "Epoch 2/3\n",
      "53373/53373 [==============================] - 7s 139us/step - loss: 0.9498 - accuracy: 0.8120\n",
      "Epoch 3/3\n",
      "53373/53373 [==============================] - 7s 139us/step - loss: 0.9311 - accuracy: 0.8274\n",
      "60 0.4643091406413731 0.8704781532287598\n",
      "Epoch 1/3\n",
      "53373/53373 [==============================] - 8s 142us/step - loss: 1.0140 - accuracy: 0.7740\n",
      "Epoch 2/3\n",
      "53373/53373 [==============================] - 7s 140us/step - loss: 0.9453 - accuracy: 0.8145\n",
      "Epoch 3/3\n",
      "53373/53373 [==============================] - 7s 140us/step - loss: 0.9254 - accuracy: 0.8226\n",
      "70 0.5305878505183861 0.821978747844696\n",
      "Epoch 1/3\n",
      "53373/53373 [==============================] - 8s 144us/step - loss: 1.0168 - accuracy: 0.7714\n",
      "Epoch 2/3\n",
      "53373/53373 [==============================] - 8s 141us/step - loss: 0.9407 - accuracy: 0.8097\n",
      "Epoch 3/3\n",
      "53373/53373 [==============================] - 8s 141us/step - loss: 0.9234 - accuracy: 0.8225\n",
      "80 0.4128352905356819 0.8707444071769714\n",
      "Epoch 1/3\n",
      "53373/53373 [==============================] - 8s 143us/step - loss: 1.0257 - accuracy: 0.7723\n",
      "Epoch 2/3\n",
      "53373/53373 [==============================] - 7s 140us/step - loss: 0.9577 - accuracy: 0.8141\n",
      "Epoch 3/3\n",
      "53373/53373 [==============================] - 7s 140us/step - loss: 0.9361 - accuracy: 0.8242\n",
      "90 0.4962861406680244 0.8483396172523499\n",
      "Epoch 1/3\n",
      "53373/53373 [==============================] - 8s 145us/step - loss: 1.0145 - accuracy: 0.7780\n",
      "Epoch 2/3\n",
      "53373/53373 [==============================] - 8s 142us/step - loss: 0.9442 - accuracy: 0.8158\n",
      "Epoch 3/3\n",
      "53373/53373 [==============================] - 8s 142us/step - loss: 0.9265 - accuracy: 0.8291\n",
      "100 0.4482310402581072 0.8322111964225769\n"
     ]
    },
    {
     "data": {
      "image/png": "[encoded data removed]",
      "text/plain": [
       "<Figure size 432x288 with 1 Axes>"
      ]
     },
     "metadata": {
      "needs_background": "light"
     },
     "output_type": "display_data"
    }
   ],
   "source": [
    "pred_list = []\n",
    "y_test_list = []\n",
    "\n",
    "for random_state in [10,20,30,40,50,60,70,80,90,100]:\n",
    "\n",
    "    X_train, X_test, y_train, y_test = train_test_split(spec_matrix_db, np.array(y), test_size=0.33,\n",
    "                                                        random_state=random_state)\n",
    "    # Normalise by statistics of training data\n",
    "    X_train_norm = (X_train - np.mean(X_train))/np.std(X_train)\n",
    "    X_test_norm = (X_test - np.mean(X_train))/np.std(X_train)\n",
    "    X_train_tf = X_train_norm.reshape(X_train_norm.shape[0], 1, X_train_norm.shape[1], X_train_norm.shape[2])\n",
    "    X_test_tf = X_test_norm.reshape(X_test_norm.shape[0], 1, X_test_norm.shape[1], X_test_norm.shape[2])\n",
    "\n",
    "    ################################ CONVOLUTIONAL NEURAL NETWORK ################################\n",
    "    ## NN parameters\n",
    "    class_weight = {0: 1.,\n",
    "                    1: 10.,\n",
    "                    }\n",
    "    input_shape = (1, X_train_tf.shape[2], X_train_tf.shape[-1])\n",
    "\n",
    "    model = Sequential()\n",
    "    n_dense = 128\n",
    "    nb_classes = 2\n",
    "    # number of convolutional filters\n",
    "    nb_conv_filters = 32\n",
    "    # num_hidden = 236\n",
    "    nb_conv_filters_2 = 64\n",
    "    convout1 = Activation('relu')\n",
    "    convout2 = Activation('relu')\n",
    "\n",
    "    model.add(Conv2D(nb_conv_filters, kernel_size = (3,3),\n",
    "         activation = 'relu', padding = 'valid', strides = 1,\n",
    "         input_shape = input_shape))\n",
    "\n",
    "    model.add(MaxPooling2D(pool_size=(2, 2)))\n",
    "    model.add(Conv2D(nb_conv_filters_2, kernel_size = (3,3),\n",
    "         activation = 'relu', padding = 'valid'))\n",
    "    model.add(MaxPooling2D(pool_size=(2, 2)))\n",
    "\n",
    "    # model.add(Conv2D(nb_conv_filters_2, kernel_size = (5,5),\n",
    "    #      activation = 'relu', padding = 'valid'))\n",
    "    # model.add(MaxPooling2D(pool_size=(2, 2)))\n",
    "\n",
    "    model.add(Dropout(0.2))  \n",
    "    model.add(Flatten())\n",
    "    # Shared between MLP and CNN:\n",
    "    model.add(Dense(n_dense, activation='relu'))\n",
    "    model.add(Dense(nb_classes, activation='softmax'))\n",
    "    model.compile(loss='categorical_crossentropy',\n",
    "                    optimizer='adadelta',\n",
    "                    metrics=['accuracy'])\n",
    "\n",
    "    model.fit(x=X_train_tf, y=y_train, batch_size=None, epochs=3, verbose=1, callbacks=None, validation_split=0.0,\n",
    "              validation_data=None,\n",
    "              shuffle=True, class_weight=class_weight, sample_weight=None, initial_epoch=0,\n",
    "              steps_per_epoch=None, validation_steps=None)\n",
    "\n",
    "\n",
    "    loss, acc = model.evaluate(x=X_test_tf, y=y_test, batch_size=None, verbose=0, sample_weight=None, steps=None)\n",
    "    pred = model.predict(X_test_tf)\n",
    "    plt.hist(pred[:,1]) # Optional: visualise histogram of labels\n",
    "#     plt.show()\n",
    "    print(random_state, loss, acc)\n",
    "    \n",
    "    pred_list.append(pred)  # Collect y_test to report classification performance\n",
    "    y_test_list.append(y_test)  # Collect y_test to report classification performance\n",
    "\n",
    "    \n",
    "    "
   ]
  },
  {
   "cell_type": "markdown",
   "metadata": {},
   "source": [
    "## Create plotting functions"
   ]
  },
  {
   "cell_type": "markdown",
   "metadata": {},
   "source": [
    "We now create a function to display the confusion matrices. This is a slight modification of the `plot_confusion_matrix` function available on [sklearn](https://scikit-learn.org/stable/auto_examples/model_selection/plot_confusion_matrix.html) to include a mean and variance, for the purpose of evaluation over a tenfold split."
   ]
  },
  {
   "cell_type": "code",
   "execution_count": 6,
   "metadata": {},
   "outputs": [],
   "source": [
    "def plot_confusion_matrix(cm, classes, std,\n",
    "                          normalize=False,\n",
    "                                                    cmap=plt.cm.Blues):\n",
    "    \"\"\"\n",
    "    This function prints and plots the confusion matrix.\n",
    "    Normalization can be applied by setting `normalize=True`.\n",
    "    \"\"\"\n",
    "\n",
    "\n",
    "    std = std * 100\n",
    "    if normalize:\n",
    "        cm = cm.astype('float') / cm.sum(axis=1)[:, np.newaxis] *100\n",
    "        print(\"Normalized confusion matrix\")\n",
    "    else:\n",
    "        print('Confusion matrix, without normalization')\n",
    "\n",
    "    print(cm)\n",
    "\n",
    "    fig, ax = plt.subplots()\n",
    "    im = ax.imshow(cm, interpolation='nearest', cmap=cmap)\n",
    "#     ax.figure.colorbar(im, ax=ax)\n",
    "    # We want to show all ticks...\n",
    "    ax.set(xticks=np.arange(cm.shape[1]),\n",
    "           yticks=np.arange(cm.shape[0]),\n",
    "           # ... and label them with the respective list entries\n",
    "           xticklabels=classes, yticklabels=classes,\n",
    "\n",
    "           ylabel='True label',\n",
    "           xlabel='Predicted label')\n",
    "\n",
    "    # Rotate the tick labels and set their alignment.\n",
    "    plt.setp(ax.get_xticklabels(), rotation=45, ha=\"right\",\n",
    "             rotation_mode=\"anchor\")\n",
    "\n",
    "    # Loop over data dimensions and create text annotations.\n",
    "    fmt = '.1f' if normalize else 'd'\n",
    "    thresh = cm.max() / 2.\n",
    "    for i in range(cm.shape[0]):\n",
    "        for j in range(cm.shape[1]):\n",
    "            ax.text(j, i, format(cm[i, j], fmt) + ' ± ' + format(std[i, j], fmt),\n",
    "                    ha=\"center\", va=\"center\",\n",
    "                    color=\"white\" if cm[i, j] > thresh else \"black\")\n",
    "    fig.tight_layout()\n",
    "    return ax\n",
    "\n",
    "\n",
    "cm_list = []\n",
    "for i in np.arange(len(pred_list)):\n",
    "        cm_list.append(confusion_matrix(np.argmax(y_test_list[i],-1), np.argmax(pred_list[i],-1)))\n",
    "cm_mean = np.mean(cm_list, axis = 0)\n",
    "total = np.sum(cm_mean)\n",
    "cm_mean = cm_mean/total\n",
    "cm_std = np.std(cm_list, axis = 0)/total\n"
   ]
  },
  {
   "cell_type": "markdown",
   "metadata": {},
   "source": [
    "## Format and display plot"
   ]
  },
  {
   "cell_type": "code",
   "execution_count": 7,
   "metadata": {},
   "outputs": [
    {
     "name": "stderr",
     "output_type": "stream",
     "text": [
      "findfont: Font family ['normal'] not found. Falling back to DejaVu Sans.\n"
     ]
    },
    {
     "name": "stdout",
     "output_type": "stream",
     "text": [
      "Normalized confusion matrix\n",
      "[[85.36 14.64]\n",
      " [29.04 70.96]]\n"
     ]
    },
    {
     "data": {
      "image/png": "[encoded data removed]",
      "text/plain": [
       "<Figure size 432x288 with 1 Axes>"
      ]
     },
     "metadata": {
      "needs_background": "light"
     },
     "output_type": "display_data"
    }
   ],
   "source": [
    "np.set_printoptions(precision=2)\n",
    "\n",
    "font = {'family' : 'normal',\n",
    "        'weight' : 'normal',\n",
    "        'size'   : 14}\n",
    "\n",
    "matplotlib.rc('font', **font)\n",
    "\n",
    "\n",
    "class_names= np.array(['Noise', 'Mozz'])\n",
    "\n",
    "# Plot normalized confusion matrix\n",
    "plot_confusion_matrix(cm_mean, std=cm_std, classes=class_names, normalize=True)\n",
    "plt.tight_layout()\n",
    "plt.show()"
   ]
  },
  {
   "cell_type": "code",
   "execution_count": null,
   "metadata": {},
   "outputs": [],
   "source": []
  }
 ],
 "metadata": {
  "kernelspec": {
   "display_name": "Python 3",
   "language": "python",
   "name": "python3"
  },
  "language_info": {
   "codemirror_mode": {
    "name": "ipython",
    "version": 3
   },
   "file_extension": ".py",
   "mimetype": "text/x-python",
   "name": "python",
   "nbconvert_exporter": "python",
   "pygments_lexer": "ipython3",
   "version": "3.7.1"
  }
 },
 "nbformat": 4,
 "nbformat_minor": 2
}
