{
 "cells": [
  {
   "cell_type": "code",
   "execution_count": 1,
   "metadata": {},
   "outputs": [
    {
     "name": "stderr",
     "output_type": "stream",
     "text": [
      "/home/ikiskin/anaconda3/envs/tensorflow/lib/python3.6/site-packages/h5py/__init__.py:36: FutureWarning: Conversion of the second argument of issubdtype from `float` to `np.floating` is deprecated. In future, it will be treated as `np.float64 == np.dtype(float).type`.\n",
      "  from ._conv import register_converters as _register_converters\n",
      "Using TensorFlow backend.\n"
     ]
    }
   ],
   "source": [
    "import pandas as pd\n",
    "import numpy as np\n",
    "import librosa\n",
    "import librosa.display\n",
    "import matplotlib.pyplot as plt\n",
    "import matplotlib\n",
    "\n",
    "\n",
    "# Notification\n",
    "import time\n",
    "\n",
    "# File IO\n",
    "import h5py\n",
    "import os\n",
    "\n",
    "# Deep learning\n",
    "# Keras-related imports\n",
    "from keras.models import Sequential\n",
    "from keras.layers import Dense, Dropout, Activation, Flatten, LSTM\n",
    "from keras.layers import Convolution1D, MaxPooling2D, Convolution2D\n",
    "from keras import backend as K\n",
    "K.set_image_dim_ordering('th')\n",
    "from keras.callbacks import ModelCheckpoint\n",
    "from keras.callbacks import RemoteMonitor\n",
    "from keras.callbacks import EarlyStopping\n",
    "from keras.models import load_model\n",
    "from keras.layers import Conv2D, MaxPooling2D\n",
    "\n",
    "\n",
    "# Result processing\n",
    "from sklearn.model_selection import train_test_split\n",
    "from sklearn.metrics import confusion_matrix\n",
    "from sklearn.utils.multiclass import unique_labels\n",
    "from sklearn.metrics import f1_score\n"
   ]
  },
  {
   "cell_type": "markdown",
   "metadata": {},
   "source": [
    "# Section 0: Perform feature transform, save data\n",
    "\n",
    "This section is used to create the $(\\mathbf{X},y)$ training set with feature choice parameterised by either `{'log-mel', 'mfcc'}`. Librosa is used to extract the features, and has further support for any features one may wish to choose.\n",
    "\n",
    "Once this section has been run once, the user is advised to skip to **Section 1** which deals with performing a baseline classification using a Convolutional Neural Network."
   ]
  },
  {
   "cell_type": "code",
   "execution_count": 2,
   "metadata": {},
   "outputs": [],
   "source": [
    "# Parameterise feature transform here. The default is to use log-mel features, but the user may implement any choice\n",
    "# or use the raw time-series as preferred \n",
    "\n",
    "feature_type = 'log-mel'  # Select from {'log-mel', 'mfcc'}\n",
    "\n",
    "\n",
    "win_len = 0.1  # Window length of feature\n",
    "n_mels = 128  # Number of log-mel coefficients"
   ]
  },
  {
   "cell_type": "code",
   "execution_count": 3,
   "metadata": {},
   "outputs": [],
   "source": [
    "# Select the root of the processed 1 second audio chunks, where votes have been aggregated already\n",
    "# This path is relative, and should by default point to the correct location\n",
    "\n",
    "wav_root = '../data/audio_1sec/'  "
   ]
  },
  {
   "cell_type": "code",
   "execution_count": 4,
   "metadata": {},
   "outputs": [],
   "source": [
    "# Load the label information contained in the resolved 1 second chunks, with votes {'yes', 'no', 'not_sure'}\n",
    "\n",
    "df = pd.read_csv('../labels/audio_1sec.csv',  header=None, names=[\"path\", \"yes\", \"no\", \"not_sure\",\"subject_set\"])\n",
    "df['path'] = df['path'].astype(str) + '.wav'\n",
    "\n",
    "\n",
    "# Create the y vector by treating 'not_sure' as 0.5, 'yes' as 1.0, 'no' as 0.0 and average\n",
    "df['res'] = (df['yes'].astype(int)*1 + df['not_sure'].astype(int)*0.5) / (df['yes'] + df['no'] + df['not_sure']) >= 0.5\n",
    "total_audio_n = len(df.index.values.tolist())\n",
    "\n",
    "y = np.zeros((total_audio_n, 2))\n",
    "\n",
    "y[:,1] = np.array(np.array(df['res']).astype(int)).astype(int)\n",
    "y[:,0] = 1-y[:,1].astype(int)"
   ]
  },
  {
   "cell_type": "code",
   "execution_count": 6,
   "metadata": {
    "scrolled": true
   },
   "outputs": [],
   "source": [
    "# Initialise dimensions for feature transformation\n",
    "\n",
    "nfft = int(win_len * 8000)\n",
    "wav_path = wav_root + df[\"path\"]\n",
    "\n",
    "# Initialise empty X matrix\n",
    "wav, fs = librosa.load(wav_path.iloc[0],sr=None)  # Load one spectrogram file to calculate dimensions of entire set\n",
    "\n",
    "if feature_type == 'log-mel':    \n",
    "    spec = librosa.feature.melspectrogram(y=wav, sr=fs, n_mels=n_mels, n_fft=nfft*4, hop_length=nfft)\n",
    "             \n",
    "elif feature_type == 'mfcc':\n",
    "    spec = librosa.feature.mfcc(y=wav, sr=fs, n_mfcc=13, n_fft=nfft*4, hop_length=nfft)\n",
    "    \n",
    "l_spec = np.shape(spec)[1]  # Length of the spectral representation for each 2 second chunk\n",
    "h_spec = np.shape(spec)[0]  # This is also n_mels\n",
    "spec_matrix = np.zeros([len(y), h_spec, l_spec])  "
   ]
  },
  {
   "cell_type": "code",
   "execution_count": 10,
   "metadata": {},
   "outputs": [
    {
     "name": "stdout",
     "output_type": "stream",
     "text": [
      "Iteration 0 0 526\n",
      "Iteration 1000 2 217\n",
      "Iteration 2000 5 217\n",
      "Iteration 3000 8 216\n",
      "Iteration 4000 10 218\n",
      "Iteration 5000 13 217\n",
      "Iteration 6000 16 218\n",
      "Iteration 7000 19 218\n",
      "Iteration 8000 21 217\n",
      "Iteration 9000 24 217\n",
      "Iteration 10000 27 218\n",
      "Iteration 11000 30 218\n",
      "Iteration 12000 32 218\n",
      "Iteration 13000 35 219\n",
      "Iteration 14000 38 220\n",
      "Iteration 15000 41 222\n",
      "Iteration 16000 44 222\n",
      "Iteration 17000 47 222\n",
      "Iteration 18000 50 222\n",
      "Iteration 19000 53 223\n",
      "Iteration 20000 56 223\n",
      "Iteration 21000 58 223\n",
      "Iteration 22000 61 223\n",
      "Iteration 23000 64 222\n",
      "Iteration 24000 67 222\n",
      "Iteration 25000 69 222\n",
      "Iteration 26000 72 223\n",
      "Iteration 27000 75 223\n",
      "Iteration 28000 78 223\n",
      "Iteration 29000 81 223\n",
      "Iteration 30000 84 223\n",
      "Iteration 31000 86 223\n",
      "Iteration 32000 89 222\n",
      "Iteration 33000 92 222\n",
      "Iteration 34000 94 222\n",
      "Iteration 35000 97 222\n",
      "Iteration 36000 100 222\n",
      "Iteration 37000 103 222\n",
      "Iteration 38000 105 222\n",
      "Iteration 39000 108 222\n",
      "Iteration 40000 111 222\n",
      "Iteration 41000 114 223\n",
      "Iteration 42000 117 223\n",
      "Iteration 43000 120 223\n",
      "Iteration 44000 123 222\n",
      "Iteration 45000 125 222\n",
      "Iteration 46000 128 222\n",
      "Iteration 47000 131 222\n",
      "Iteration 48000 134 222\n",
      "Iteration 49000 136 222\n",
      "Iteration 50000 139 222\n",
      "Iteration 51000 142 222\n",
      "Iteration 52000 145 222\n",
      "Iteration 53000 147 222\n",
      "Iteration 54000 150 222\n",
      "Iteration 55000 153 222\n",
      "Iteration 56000 156 222\n",
      "Iteration 57000 158 222\n",
      "Iteration 58000 161 221\n",
      "Iteration 59000 164 221\n",
      "Iteration 60000 167 221\n",
      "Iteration 61000 169 221\n",
      "Iteration 62000 172 221\n",
      "Iteration 63000 175 221\n",
      "Iteration 64000 178 221\n",
      "Iteration 65000 180 221\n",
      "Iteration 66000 183 221\n",
      "Iteration 67000 186 221\n",
      "Iteration 68000 188 221\n",
      "Iteration 69000 191 221\n",
      "Iteration 70000 194 221\n",
      "Iteration 71000 197 221\n",
      "Iteration 72000 200 221\n",
      "Iteration 73000 202 221\n",
      "Iteration 74000 205 221\n",
      "Iteration 75000 208 221\n",
      "Iteration 76000 210 221\n",
      "Iteration 77000 213 221\n",
      "Iteration 78000 216 221\n",
      "Iteration 79000 219 221\n"
     ]
    }
   ],
   "source": [
    "# Perform feature transformation and store result in pre-allocated spec_matrix\n",
    "\n",
    "start_time = time.time()\n",
    "for i in range(0, total_audio_n):\n",
    "#     if count[i] == 1:\n",
    "        \n",
    "        # Create X matrix\n",
    "    audio_file, fs = librosa.load(wav_path.loc[i],sr=None)\n",
    "    if feature_type == 'log-mel':\n",
    "        spec_matrix[i] = librosa.feature.melspectrogram(y=audio_file,\n",
    "                                                        sr=fs, n_mels=n_mels, n_fft=nfft*4, hop_length=nfft)\n",
    "\n",
    "    elif feature_type == 'mfcc':\n",
    "        spec_matrix[i] = librosa.feature.mfcc(y=audio_file,\n",
    "                                                        sr=fs, n_mfcc=13, n_fft=nfft*4, hop_length=nfft)            \n",
    "        \n",
    "    if i%1000 == 0:\n",
    "        time_used = time.time()-start_time\n",
    "        time_total = time_used * total_audio_n / (i+1)\n",
    "        \n",
    "        print('Iteration', str(i), \"%i\"%(time_used), \"%i\"%(time_total))\n",
    "\n"
   ]
  },
  {
   "cell_type": "code",
   "execution_count": 11,
   "metadata": {},
   "outputs": [],
   "source": [
    "# Save files with file_name if not in path\n",
    "\n",
    "file_names = ['data_log-melnot_sure_single_into_0_5.h5', 'label_log-melnot_sure_single_into_0_5.h5']\n",
    "\n",
    "for file_name in file_names:\n",
    "    if not os.path.isfile('../proc_data/' + file_name):\n",
    "        hf = h5py.File('../proc_data/data_' + feature_type + 'not_sure_single_into_0_5.h5', 'w')\n",
    "        hf.create_dataset('../proc_data/data_' + feature_type + '_majority_labels_not_sure_single_into_0_5',\n",
    "                          data=spec_matrix)\n",
    "        hf.close()\n",
    "        \n",
    "        hf = h5py.File('../proc_data/label_' + feature_type + 'not_sure_single_into_0_5.h5', 'w')\n",
    "        hf.create_dataset('../proc_data/label_' + feature_type + '_majority_labels_not_sure_single_into_0_5', data=y)\n",
    "        hf.close()"
   ]
  },
  {
   "cell_type": "markdown",
   "metadata": {},
   "source": [
    "# Section 1: Load and classify\n",
    "\n",
    "If the feature transform has already been performed and the data is saved in `proc_data`, load the data in the cell below and perform classification as outlined by the following cells."
   ]
  },
  {
   "cell_type": "code",
   "execution_count": 13,
   "metadata": {},
   "outputs": [],
   "source": [
    "# Load files\n",
    "save_name = 'not_sure_single_into_0_5'\n",
    "\n",
    "hf = h5py.File('../proc_data/data_' + feature_type + save_name + '.h5', 'r')\n",
    "spec_matrix_read = np.array(hf.get('../proc_data/data_' + feature_type + '_majority_labels_' + save_name))\n",
    "hf.close()\n",
    "\n",
    "hf = h5py.File('../proc_data/label_' + feature_type + save_name + '.h5', 'r')\n",
    "y = np.array(hf.get('../proc_data/label_' + feature_type + '_majority_labels_' + save_name))\n",
    "hf.close()\n"
   ]
  },
  {
   "cell_type": "markdown",
   "metadata": {},
   "source": [
    "# Create dataset \n"
   ]
  },
  {
   "cell_type": "code",
   "execution_count": 14,
   "metadata": {},
   "outputs": [],
   "source": [
    "# Convert to dB\n",
    "\n",
    "spec_matrix_db = np.zeros_like(spec_matrix_read)\n",
    "\n",
    "for i, spec in enumerate(spec_matrix_read):\n",
    "    spec_matrix_db[i] = librosa.power_to_db(spec,ref=np.max)"
   ]
  },
  {
   "cell_type": "markdown",
   "metadata": {},
   "source": [
    "## Train Convolutional Neural Network\n",
    "\n",
    "First, the data is split tenfold using `sklearn`'s `train_test_split` with the random states given in the `random_state` vector.\n",
    "\n",
    "The neural network cross-entropy weights are set in the dictionary `class_weight`, with the key `0` referring to the noise class, and `1` referring to the mosquito class"
   ]
  },
  {
   "cell_type": "code",
   "execution_count": 15,
   "metadata": {
    "scrolled": false
   },
   "outputs": [
    {
     "name": "stdout",
     "output_type": "stream",
     "text": [
      "Epoch 1/3\n",
      "53373/53373 [==============================] - 5s 91us/step - loss: 1.0231 - acc: 0.7761\n",
      "Epoch 2/3\n",
      "53373/53373 [==============================] - 4s 78us/step - loss: 0.9533 - acc: 0.8097\n",
      "Epoch 3/3\n",
      "53373/53373 [==============================] - 4s 79us/step - loss: 0.9346 - acc: 0.8205\n",
      "10 0.4620409584897002 0.8179086309931459\n",
      "Epoch 1/3\n",
      "53373/53373 [==============================] - 4s 81us/step - loss: 1.0337 - acc: 0.7641\n",
      "Epoch 2/3\n",
      "53373/53373 [==============================] - 4s 80us/step - loss: 0.9571 - acc: 0.8071\n",
      "Epoch 3/3\n",
      "53373/53373 [==============================] - 4s 80us/step - loss: 0.9382 - acc: 0.8171\n",
      "20 0.5754111080045612 0.7700559169347645\n",
      "Epoch 1/3\n",
      "53373/53373 [==============================] - 4s 83us/step - loss: 1.0109 - acc: 0.7705\n",
      "Epoch 2/3\n",
      "53373/53373 [==============================] - 4s 81us/step - loss: 0.9450 - acc: 0.8101\n",
      "Epoch 3/3\n",
      "53373/53373 [==============================] - 4s 80us/step - loss: 0.9284 - acc: 0.8220\n",
      "30 0.49277399931362453 0.8165011982311242\n",
      "Epoch 1/3\n",
      "53373/53373 [==============================] - 5s 84us/step - loss: 1.0200 - acc: 0.7683\n",
      "Epoch 2/3\n",
      "53373/53373 [==============================] - 4s 80us/step - loss: 0.9471 - acc: 0.8113\n",
      "Epoch 3/3\n",
      "53373/53373 [==============================] - 4s 80us/step - loss: 0.9313 - acc: 0.8241\n",
      "40 0.5225368104899177 0.8103389250302107\n",
      "Epoch 1/3\n",
      "53373/53373 [==============================] - 5s 85us/step - loss: 1.0137 - acc: 0.7770\n",
      "Epoch 2/3\n",
      "53373/53373 [==============================] - 4s 81us/step - loss: 0.9522 - acc: 0.8091\n",
      "Epoch 3/3\n",
      "53373/53373 [==============================] - 4s 81us/step - loss: 0.9325 - acc: 0.8204\n",
      "50 0.4460363379502524 0.8282171250378184\n",
      "Epoch 1/3\n",
      "53373/53373 [==============================] - 4s 82us/step - loss: 1.0185 - acc: 0.7703\n",
      "Epoch 2/3\n",
      "53373/53373 [==============================] - 4s 78us/step - loss: 0.9507 - acc: 0.8148\n",
      "Epoch 3/3\n",
      "53373/53373 [==============================] - 4s 78us/step - loss: 0.9352 - acc: 0.8217\n",
      "60 0.44301237536232146 0.8362052569583786\n",
      "Epoch 1/3\n",
      "53373/53373 [==============================] - 5s 86us/step - loss: 1.0165 - acc: 0.7704\n",
      "Epoch 2/3\n",
      "53373/53373 [==============================] - 4s 83us/step - loss: 0.9426 - acc: 0.8115\n",
      "Epoch 3/3\n",
      "53373/53373 [==============================] - 4s 80us/step - loss: 0.9269 - acc: 0.8237\n",
      "70 0.5023762873049455 0.8639354863296135\n",
      "Epoch 1/3\n",
      "53373/53373 [==============================] - 5s 85us/step - loss: 1.0090 - acc: 0.7804\n",
      "Epoch 2/3\n",
      "53373/53373 [==============================] - 4s 80us/step - loss: 0.9444 - acc: 0.8113\n",
      "Epoch 3/3\n",
      "53373/53373 [==============================] - 4s 80us/step - loss: 0.9203 - acc: 0.8224\n",
      "80 0.6023660580652738 0.7374947696800642\n",
      "Epoch 1/3\n",
      "53373/53373 [==============================] - 5s 86us/step - loss: 1.0293 - acc: 0.7726\n",
      "Epoch 2/3\n",
      "53373/53373 [==============================] - 4s 81us/step - loss: 0.9573 - acc: 0.8155\n",
      "Epoch 3/3\n",
      "53373/53373 [==============================] - 4s 81us/step - loss: 0.9443 - acc: 0.8260\n",
      "90 0.490859431952738 0.8303853322773183\n",
      "Epoch 1/3\n",
      "53373/53373 [==============================] - 5s 86us/step - loss: 1.0105 - acc: 0.7816\n",
      "Epoch 2/3\n",
      "53373/53373 [==============================] - 4s 81us/step - loss: 0.9409 - acc: 0.8198\n",
      "Epoch 3/3\n",
      "53373/53373 [==============================] - 5s 86us/step - loss: 0.9266 - acc: 0.8284\n",
      "100 0.5201811555893044 0.8207234965262586\n"
     ]
    },
    {
     "data": {
      "image/png": "[encoded data removed]",
      "text/plain": [
       "<Figure size 432x288 with 1 Axes>"
      ]
     },
     "metadata": {},
     "output_type": "display_data"
    }
   ],
   "source": [
    "pred_list = []\n",
    "y_test_list = []\n",
    "\n",
    "for random_state in [10,20,30,40,50,60,70,80,90,100]:\n",
    "\n",
    "    X_train, X_test, y_train, y_test = train_test_split(spec_matrix_db, np.array(y), test_size=0.33,\n",
    "                                                        random_state=random_state)\n",
    "    # Normalise by statistics of training data\n",
    "    X_train_norm = (X_train - np.mean(X_train))/np.std(X_train)\n",
    "    X_test_norm = (X_test - np.mean(X_train))/np.std(X_train)\n",
    "    X_train_tf = X_train_norm.reshape(X_train_norm.shape[0], 1, X_train_norm.shape[1], X_train_norm.shape[2])\n",
    "    X_test_tf = X_test_norm.reshape(X_test_norm.shape[0], 1, X_test_norm.shape[1], X_test_norm.shape[2])\n",
    "\n",
    "    ################################ CONVOLUTIONAL NEURAL NETWORK ################################\n",
    "    ## NN parameters\n",
    "    class_weight = {0: 1.,\n",
    "                    1: 10.,\n",
    "                    }\n",
    "    input_shape = (1, X_train_tf.shape[2], X_train_tf.shape[-1])\n",
    "\n",
    "    model = Sequential()\n",
    "    n_dense = 128\n",
    "    nb_classes = 2\n",
    "    # number of convolutional filters\n",
    "    nb_conv_filters = 32\n",
    "    # num_hidden = 236\n",
    "    nb_conv_filters_2 = 64\n",
    "    convout1 = Activation('relu')\n",
    "    convout2 = Activation('relu')\n",
    "\n",
    "    model.add(Conv2D(nb_conv_filters, kernel_size = (3,3),\n",
    "         activation = 'relu', padding = 'valid', strides = 1,\n",
    "         input_shape = input_shape))\n",
    "\n",
    "    model.add(MaxPooling2D(pool_size=(2, 2)))\n",
    "    model.add(Conv2D(nb_conv_filters_2, kernel_size = (3,3),\n",
    "         activation = 'relu', padding = 'valid'))\n",
    "    model.add(MaxPooling2D(pool_size=(2, 2)))\n",
    "\n",
    "    # model.add(Conv2D(nb_conv_filters_2, kernel_size = (5,5),\n",
    "    #      activation = 'relu', padding = 'valid'))\n",
    "    # model.add(MaxPooling2D(pool_size=(2, 2)))\n",
    "\n",
    "    model.add(Dropout(0.2))  \n",
    "    model.add(Flatten())\n",
    "    # Shared between MLP and CNN:\n",
    "    model.add(Dense(n_dense, activation='relu'))\n",
    "    model.add(Dense(nb_classes, activation='softmax'))\n",
    "    model.compile(loss='categorical_crossentropy',\n",
    "                    optimizer='adadelta',\n",
    "                    metrics=['accuracy'])\n",
    "\n",
    "    model.fit(x=X_train_tf, y=y_train, batch_size=None, epochs=3, verbose=1, callbacks=None, validation_split=0.0,\n",
    "              validation_data=None,\n",
    "              shuffle=True, class_weight=class_weight, sample_weight=None, initial_epoch=0,\n",
    "              steps_per_epoch=None, validation_steps=None)\n",
    "\n",
    "\n",
    "    loss, acc = model.evaluate(x=X_test_tf, y=y_test, batch_size=None, verbose=0, sample_weight=None, steps=None)\n",
    "    pred = model.predict(X_test_tf)\n",
    "    plt.hist(pred[:,1]) # Optional: visualise histogram of labels\n",
    "#     plt.show()\n",
    "    print(random_state, loss, acc)\n",
    "    \n",
    "    pred_list.append(pred)  # Collect y_test to report classification performance\n",
    "    y_test_list.append(y_test)  # Collect y_test to report classification performance\n",
    "\n",
    "    \n",
    "    "
   ]
  },
  {
   "cell_type": "markdown",
   "metadata": {},
   "source": [
    "## Create plotting functions"
   ]
  },
  {
   "cell_type": "markdown",
   "metadata": {},
   "source": [
    "We now create a function to display the confusion matrices. This is a slight modification of the `plot_confusion_matrix` function available on [sklearn](https://scikit-learn.org/stable/auto_examples/model_selection/plot_confusion_matrix.html) to include a mean and variance, for the purpose of evaluation over a tenfold split."
   ]
  },
  {
   "cell_type": "code",
   "execution_count": 48,
   "metadata": {},
   "outputs": [],
   "source": [
    "def plot_confusion_matrix(cm, classes, std,\n",
    "                          normalize=False,\n",
    "                                                    cmap=plt.cm.Blues):\n",
    "    \"\"\"\n",
    "    This function prints and plots the confusion matrix.\n",
    "    Normalization can be applied by setting `normalize=True`.\n",
    "    \"\"\"\n",
    "\n",
    "\n",
    "    std = std * 100\n",
    "    if normalize:\n",
    "        cm = cm.astype('float') / cm.sum(axis=1)[:, np.newaxis] *100\n",
    "        print(\"Normalized confusion matrix\")\n",
    "    else:\n",
    "        print('Confusion matrix, without normalization')\n",
    "\n",
    "    print(cm)\n",
    "\n",
    "    fig, ax = plt.subplots()\n",
    "    im = ax.imshow(cm, interpolation='nearest', cmap=cmap)\n",
    "#     ax.figure.colorbar(im, ax=ax)\n",
    "    # We want to show all ticks...\n",
    "    ax.set(xticks=np.arange(cm.shape[1]),\n",
    "           yticks=np.arange(cm.shape[0]),\n",
    "           # ... and label them with the respective list entries\n",
    "           xticklabels=classes, yticklabels=classes,\n",
    "\n",
    "           ylabel='True label',\n",
    "           xlabel='Predicted label')\n",
    "\n",
    "    # Rotate the tick labels and set their alignment.\n",
    "    plt.setp(ax.get_xticklabels(), rotation=45, ha=\"right\",\n",
    "             rotation_mode=\"anchor\")\n",
    "\n",
    "    # Loop over data dimensions and create text annotations.\n",
    "    fmt = '.1f' if normalize else 'd'\n",
    "    thresh = cm.max() / 2.\n",
    "    for i in range(cm.shape[0]):\n",
    "        for j in range(cm.shape[1]):\n",
    "            ax.text(j, i, format(cm[i, j], fmt) + ' ± ' + format(std[i, j], fmt),\n",
    "                    ha=\"center\", va=\"center\",\n",
    "                    color=\"white\" if cm[i, j] > thresh else \"black\")\n",
    "    fig.tight_layout()\n",
    "    return ax\n",
    "\n",
    "\n",
    "cm_list = []\n",
    "for i in np.arange(len(pred_list)):\n",
    "        cm_list.append(confusion_matrix(np.argmax(y_test_list[i],-1), np.argmax(pred_list[i],-1)))\n",
    "cm_mean = np.mean(cm_list, axis = 0)\n",
    "total = np.sum(cm_mean)\n",
    "cm_mean = cm_mean/total\n",
    "cm_std = np.std(cm_list, axis = 0)/total\n"
   ]
  },
  {
   "cell_type": "markdown",
   "metadata": {},
   "source": [
    "## Format and display plot"
   ]
  },
  {
   "cell_type": "code",
   "execution_count": 52,
   "metadata": {},
   "outputs": [
    {
     "name": "stdout",
     "output_type": "stream",
     "text": [
      "Normalized confusion matrix\n",
      "[[87.3  12.7 ]\n",
      " [32.08 67.92]]\n"
     ]
    },
    {
     "name": "stderr",
     "output_type": "stream",
     "text": [
      "/home/ikiskin/anaconda3/envs/tensorflow/lib/python3.6/site-packages/matplotlib/font_manager.py:1328: UserWarning: findfont: Font family ['normal'] not found. Falling back to DejaVu Sans\n",
      "  (prop.get_family(), self.defaultFamily[fontext]))\n"
     ]
    },
    {
     "data": {
      "image/png": "[encoded data removed]",
      "text/plain": [
       "<Figure size 432x288 with 1 Axes>"
      ]
     },
     "metadata": {},
     "output_type": "display_data"
    }
   ],
   "source": [
    "np.set_printoptions(precision=2)\n",
    "\n",
    "font = {'family' : 'normal',\n",
    "        'weight' : 'normal',\n",
    "        'size'   : 14}\n",
    "\n",
    "matplotlib.rc('font', **font)\n",
    "\n",
    "\n",
    "class_names= np.array(['Noise', 'Mozz'])\n",
    "\n",
    "# Plot normalized confusion matrix\n",
    "plot_confusion_matrix(cm_mean, std=cm_std, classes=class_names, normalize=True)\n",
    "plt.tight_layout()\n",
    "plt.show()"
   ]
  }
 ],
 "metadata": {
  "kernelspec": {
   "display_name": "Python [conda env:tensorflow]",
   "language": "python",
   "name": "conda-env-tensorflow-py"
  },
  "language_info": {
   "codemirror_mode": {
    "name": "ipython",
    "version": 3
   },
   "file_extension": ".py",
   "mimetype": "text/x-python",
   "name": "python",
   "nbconvert_exporter": "python",
   "pygments_lexer": "ipython3",
   "version": "3.6.4"
  }
 },
 "nbformat": 4,
 "nbformat_minor": 2
}
